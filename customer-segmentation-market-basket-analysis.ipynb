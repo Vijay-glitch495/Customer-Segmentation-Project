{
 "cells": [
  {
   "cell_type": "markdown",
   "metadata": {
    "papermill": {
     "duration": 0.053649,
     "end_time": "2021-01-16T10:09:03.687285",
     "exception": false,
     "start_time": "2021-01-16T10:09:03.633636",
     "status": "completed"
    },
    "tags": []
   },
   "source": [
    "# Customer Segmentation Project.\n",
    "# Market Basket Analysis."
   ]
  },
  {
   "cell_type": "markdown",
   "metadata": {
    "papermill": {
     "duration": 0.050698,
     "end_time": "2021-01-16T10:09:03.790554",
     "exception": false,
     "start_time": "2021-01-16T10:09:03.739856",
     "status": "completed"
    },
    "tags": []
   },
   "source": [
    "# Case Study"
   ]
  },
  {
   "cell_type": "markdown",
   "metadata": {
    "papermill": {
     "duration": 0.049185,
     "end_time": "2021-01-16T10:09:03.892635",
     "exception": false,
     "start_time": "2021-01-16T10:09:03.843450",
     "status": "completed"
    },
    "tags": []
   },
   "source": [
    "It has always been important for businesses to understand customer behaviours in order to ensure that products or services are tailored towards maximum profitability. For this case study, we will refer to a dataset with customer shopping data on customer’s gender, city, customer‘s annual income, credit score, and spending score found here. This data was obtained on several cities in India as will be seen in the dataset. Data visualization will be done (in Python) to make comparisons between the different features of the dataset.  "
   ]
  },
  {
   "cell_type": "markdown",
   "metadata": {
    "papermill": {
     "duration": 0.049226,
     "end_time": "2021-01-16T10:09:03.991354",
     "exception": false,
     "start_time": "2021-01-16T10:09:03.942128",
     "status": "completed"
    },
    "tags": []
   },
   "source": [
    "#  1. Defining the Goal of Customer Segmentation"
   ]
  },
  {
   "cell_type": "markdown",
   "metadata": {
    "papermill": {
     "duration": 0.049659,
     "end_time": "2021-01-16T10:09:04.092458",
     "exception": false,
     "start_time": "2021-01-16T10:09:04.042799",
     "status": "completed"
    },
    "tags": []
   },
   "source": [
    "Customer Segmentation is the process of division of customer base into several groups of individuals that share a similarity in different ways that are relevant to marketing. Behaviour leads to Customer Segmentation, why Using clustering, companies, Malls, supermarkets and Restaurants can identify segments of customers to target the potential user base. We will divide customers into groups according to common characteristics like gender, city, customer‘s annual income, credit score, and spending score. Through this we get deeper understanding of the customer preferences as well as the requirements for discovering valuable segments that would help us gain maximum profit for the company.\n",
    "secondly we strategize the marketing techniques more efficiently and reduce the risk of investment."
   ]
  },
  {
   "cell_type": "markdown",
   "metadata": {
    "papermill": {
     "duration": 0.049505,
     "end_time": "2021-01-16T10:09:04.193292",
     "exception": false,
     "start_time": "2021-01-16T10:09:04.143787",
     "status": "completed"
    },
    "tags": []
   },
   "source": [
    "#  2. Get the Data"
   ]
  },
  {
   "cell_type": "markdown",
   "metadata": {
    "papermill": {
     "duration": 0.050032,
     "end_time": "2021-01-16T10:09:04.295289",
     "exception": false,
     "start_time": "2021-01-16T10:09:04.245257",
     "status": "completed"
    },
    "tags": []
   },
   "source": [
    "We need to understand the data set in detail. We develop a brief understanding of the data set of which we will be working with. For example how many features are there in the data set , how many unique labels, How are they distributed or how are the labels distributed."
   ]
  },
  {
   "cell_type": "code",
   "execution_count": 1,
   "metadata": {
    "execution": {
     "iopub.execute_input": "2021-01-16T10:09:04.400983Z",
     "iopub.status.busy": "2021-01-16T10:09:04.400256Z",
     "iopub.status.idle": "2021-01-16T10:09:05.537907Z",
     "shell.execute_reply": "2021-01-16T10:09:05.538449Z"
    },
    "papermill": {
     "duration": 1.191908,
     "end_time": "2021-01-16T10:09:05.538642",
     "exception": false,
     "start_time": "2021-01-16T10:09:04.346734",
     "status": "completed"
    },
    "tags": []
   },
   "outputs": [],
   "source": [
    "#We import the libraries for performing basic mathmatical operations and tabular Dataset that we intend to use in developing our model project.\n",
    "import pandas as pd #data processing, CSV file I/O (e.g. pd.read_csv\n",
    "import numpy as np #linear algebra\n",
    "from pandas import plotting\n",
    "import seaborn as sns #Python library for Visualization\n",
    "import matplotlib.pyplot as plt #Data Visualization\n",
    "import plotly as py # Data plotting"
   ]
  },
  {
   "cell_type": "markdown",
   "metadata": {
    "papermill": {
     "duration": 0.050237,
     "end_time": "2021-01-16T10:09:05.640276",
     "exception": false,
     "start_time": "2021-01-16T10:09:05.590039",
     "status": "completed"
    },
    "tags": []
   },
   "source": [
    "#  Load the Data set."
   ]
  },
  {
   "cell_type": "code",
   "execution_count": 2,
   "metadata": {
    "execution": {
     "iopub.execute_input": "2021-01-16T10:09:05.744322Z",
     "iopub.status.busy": "2021-01-16T10:09:05.743634Z",
     "iopub.status.idle": "2021-01-16T10:09:05.746808Z",
     "shell.execute_reply": "2021-01-16T10:09:05.747315Z"
    },
    "papermill": {
     "duration": 0.057459,
     "end_time": "2021-01-16T10:09:05.747462",
     "exception": false,
     "start_time": "2021-01-16T10:09:05.690003",
     "status": "completed"
    },
    "tags": []
   },
   "outputs": [],
   "source": [
    "#We now load the data set."
   ]
  },
  {
   "cell_type": "code",
   "execution_count": 3,
   "metadata": {
    "execution": {
     "iopub.execute_input": "2021-01-16T10:09:05.852359Z",
     "iopub.status.busy": "2021-01-16T10:09:05.851691Z",
     "iopub.status.idle": "2021-01-16T10:09:05.869196Z",
     "shell.execute_reply": "2021-01-16T10:09:05.868415Z"
    },
    "papermill": {
     "duration": 0.071729,
     "end_time": "2021-01-16T10:09:05.869325",
     "exception": false,
     "start_time": "2021-01-16T10:09:05.797596",
     "status": "completed"
    },
    "tags": []
   },
   "outputs": [],
   "source": [
    "Data = pd.read_csv('../input/customer-segmentation-tutorial-in-python/Mall_Customers.csv')# we now read the data."
   ]
  },
  {
   "cell_type": "code",
   "execution_count": 4,
   "metadata": {
    "execution": {
     "iopub.execute_input": "2021-01-16T10:09:05.974351Z",
     "iopub.status.busy": "2021-01-16T10:09:05.973703Z",
     "iopub.status.idle": "2021-01-16T10:09:06.005352Z",
     "shell.execute_reply": "2021-01-16T10:09:06.004818Z"
    },
    "papermill": {
     "duration": 0.085714,
     "end_time": "2021-01-16T10:09:06.005468",
     "exception": false,
     "start_time": "2021-01-16T10:09:05.919754",
     "status": "completed"
    },
    "tags": []
   },
   "outputs": [
    {
     "data": {
      "text/html": [
       "<div>\n",
       "<style scoped>\n",
       "    .dataframe tbody tr th:only-of-type {\n",
       "        vertical-align: middle;\n",
       "    }\n",
       "\n",
       "    .dataframe tbody tr th {\n",
       "        vertical-align: top;\n",
       "    }\n",
       "\n",
       "    .dataframe thead th {\n",
       "        text-align: right;\n",
       "    }\n",
       "</style>\n",
       "<table border=\"1\" class=\"dataframe\">\n",
       "  <thead>\n",
       "    <tr style=\"text-align: right;\">\n",
       "      <th></th>\n",
       "      <th>CustomerID</th>\n",
       "      <th>Gender</th>\n",
       "      <th>Age</th>\n",
       "      <th>Annual Income (k$)</th>\n",
       "      <th>Spending Score (1-100)</th>\n",
       "    </tr>\n",
       "  </thead>\n",
       "  <tbody>\n",
       "    <tr>\n",
       "      <th>0</th>\n",
       "      <td>1</td>\n",
       "      <td>Male</td>\n",
       "      <td>19</td>\n",
       "      <td>15</td>\n",
       "      <td>39</td>\n",
       "    </tr>\n",
       "    <tr>\n",
       "      <th>1</th>\n",
       "      <td>2</td>\n",
       "      <td>Male</td>\n",
       "      <td>21</td>\n",
       "      <td>15</td>\n",
       "      <td>81</td>\n",
       "    </tr>\n",
       "    <tr>\n",
       "      <th>2</th>\n",
       "      <td>3</td>\n",
       "      <td>Female</td>\n",
       "      <td>20</td>\n",
       "      <td>16</td>\n",
       "      <td>6</td>\n",
       "    </tr>\n",
       "    <tr>\n",
       "      <th>3</th>\n",
       "      <td>4</td>\n",
       "      <td>Female</td>\n",
       "      <td>23</td>\n",
       "      <td>16</td>\n",
       "      <td>77</td>\n",
       "    </tr>\n",
       "    <tr>\n",
       "      <th>4</th>\n",
       "      <td>5</td>\n",
       "      <td>Female</td>\n",
       "      <td>31</td>\n",
       "      <td>17</td>\n",
       "      <td>40</td>\n",
       "    </tr>\n",
       "    <tr>\n",
       "      <th>...</th>\n",
       "      <td>...</td>\n",
       "      <td>...</td>\n",
       "      <td>...</td>\n",
       "      <td>...</td>\n",
       "      <td>...</td>\n",
       "    </tr>\n",
       "    <tr>\n",
       "      <th>195</th>\n",
       "      <td>196</td>\n",
       "      <td>Female</td>\n",
       "      <td>35</td>\n",
       "      <td>120</td>\n",
       "      <td>79</td>\n",
       "    </tr>\n",
       "    <tr>\n",
       "      <th>196</th>\n",
       "      <td>197</td>\n",
       "      <td>Female</td>\n",
       "      <td>45</td>\n",
       "      <td>126</td>\n",
       "      <td>28</td>\n",
       "    </tr>\n",
       "    <tr>\n",
       "      <th>197</th>\n",
       "      <td>198</td>\n",
       "      <td>Male</td>\n",
       "      <td>32</td>\n",
       "      <td>126</td>\n",
       "      <td>74</td>\n",
       "    </tr>\n",
       "    <tr>\n",
       "      <th>198</th>\n",
       "      <td>199</td>\n",
       "      <td>Male</td>\n",
       "      <td>32</td>\n",
       "      <td>137</td>\n",
       "      <td>18</td>\n",
       "    </tr>\n",
       "    <tr>\n",
       "      <th>199</th>\n",
       "      <td>200</td>\n",
       "      <td>Male</td>\n",
       "      <td>30</td>\n",
       "      <td>137</td>\n",
       "      <td>83</td>\n",
       "    </tr>\n",
       "  </tbody>\n",
       "</table>\n",
       "<p>200 rows × 5 columns</p>\n",
       "</div>"
      ],
      "text/plain": [
       "     CustomerID  Gender  Age  Annual Income (k$)  Spending Score (1-100)\n",
       "0             1    Male   19                  15                      39\n",
       "1             2    Male   21                  15                      81\n",
       "2             3  Female   20                  16                       6\n",
       "3             4  Female   23                  16                      77\n",
       "4             5  Female   31                  17                      40\n",
       "..          ...     ...  ...                 ...                     ...\n",
       "195         196  Female   35                 120                      79\n",
       "196         197  Female   45                 126                      28\n",
       "197         198    Male   32                 126                      74\n",
       "198         199    Male   32                 137                      18\n",
       "199         200    Male   30                 137                      83\n",
       "\n",
       "[200 rows x 5 columns]"
      ]
     },
     "execution_count": 4,
     "metadata": {},
     "output_type": "execute_result"
    }
   ],
   "source": [
    "Data"
   ]
  },
  {
   "cell_type": "code",
   "execution_count": 5,
   "metadata": {
    "execution": {
     "iopub.execute_input": "2021-01-16T10:09:06.121957Z",
     "iopub.status.busy": "2021-01-16T10:09:06.121162Z",
     "iopub.status.idle": "2021-01-16T10:09:06.125669Z",
     "shell.execute_reply": "2021-01-16T10:09:06.126140Z"
    },
    "papermill": {
     "duration": 0.068807,
     "end_time": "2021-01-16T10:09:06.126312",
     "exception": false,
     "start_time": "2021-01-16T10:09:06.057505",
     "status": "completed"
    },
    "tags": []
   },
   "outputs": [
    {
     "data": {
      "text/html": [
       "<div>\n",
       "<style scoped>\n",
       "    .dataframe tbody tr th:only-of-type {\n",
       "        vertical-align: middle;\n",
       "    }\n",
       "\n",
       "    .dataframe tbody tr th {\n",
       "        vertical-align: top;\n",
       "    }\n",
       "\n",
       "    .dataframe thead th {\n",
       "        text-align: right;\n",
       "    }\n",
       "</style>\n",
       "<table border=\"1\" class=\"dataframe\">\n",
       "  <thead>\n",
       "    <tr style=\"text-align: right;\">\n",
       "      <th></th>\n",
       "      <th>CustomerID</th>\n",
       "      <th>Gender</th>\n",
       "      <th>Age</th>\n",
       "      <th>Annual Income (k$)</th>\n",
       "      <th>Spending Score (1-100)</th>\n",
       "    </tr>\n",
       "  </thead>\n",
       "  <tbody>\n",
       "    <tr>\n",
       "      <th>0</th>\n",
       "      <td>1</td>\n",
       "      <td>Male</td>\n",
       "      <td>19</td>\n",
       "      <td>15</td>\n",
       "      <td>39</td>\n",
       "    </tr>\n",
       "    <tr>\n",
       "      <th>1</th>\n",
       "      <td>2</td>\n",
       "      <td>Male</td>\n",
       "      <td>21</td>\n",
       "      <td>15</td>\n",
       "      <td>81</td>\n",
       "    </tr>\n",
       "    <tr>\n",
       "      <th>2</th>\n",
       "      <td>3</td>\n",
       "      <td>Female</td>\n",
       "      <td>20</td>\n",
       "      <td>16</td>\n",
       "      <td>6</td>\n",
       "    </tr>\n",
       "    <tr>\n",
       "      <th>3</th>\n",
       "      <td>4</td>\n",
       "      <td>Female</td>\n",
       "      <td>23</td>\n",
       "      <td>16</td>\n",
       "      <td>77</td>\n",
       "    </tr>\n",
       "    <tr>\n",
       "      <th>4</th>\n",
       "      <td>5</td>\n",
       "      <td>Female</td>\n",
       "      <td>31</td>\n",
       "      <td>17</td>\n",
       "      <td>40</td>\n",
       "    </tr>\n",
       "  </tbody>\n",
       "</table>\n",
       "</div>"
      ],
      "text/plain": [
       "   CustomerID  Gender  Age  Annual Income (k$)  Spending Score (1-100)\n",
       "0           1    Male   19                  15                      39\n",
       "1           2    Male   21                  15                      81\n",
       "2           3  Female   20                  16                       6\n",
       "3           4  Female   23                  16                      77\n",
       "4           5  Female   31                  17                      40"
      ]
     },
     "execution_count": 5,
     "metadata": {},
     "output_type": "execute_result"
    }
   ],
   "source": [
    "Data.head()# we explore the headers on the datasets to understand the features."
   ]
  },
  {
   "cell_type": "code",
   "execution_count": 6,
   "metadata": {
    "execution": {
     "iopub.execute_input": "2021-01-16T10:09:06.242872Z",
     "iopub.status.busy": "2021-01-16T10:09:06.241721Z",
     "iopub.status.idle": "2021-01-16T10:09:06.247022Z",
     "shell.execute_reply": "2021-01-16T10:09:06.246445Z"
    },
    "papermill": {
     "duration": 0.067892,
     "end_time": "2021-01-16T10:09:06.247142",
     "exception": false,
     "start_time": "2021-01-16T10:09:06.179250",
     "status": "completed"
    },
    "tags": []
   },
   "outputs": [
    {
     "data": {
      "text/html": [
       "<div>\n",
       "<style scoped>\n",
       "    .dataframe tbody tr th:only-of-type {\n",
       "        vertical-align: middle;\n",
       "    }\n",
       "\n",
       "    .dataframe tbody tr th {\n",
       "        vertical-align: top;\n",
       "    }\n",
       "\n",
       "    .dataframe thead th {\n",
       "        text-align: right;\n",
       "    }\n",
       "</style>\n",
       "<table border=\"1\" class=\"dataframe\">\n",
       "  <thead>\n",
       "    <tr style=\"text-align: right;\">\n",
       "      <th></th>\n",
       "      <th>CustomerID</th>\n",
       "      <th>Gender</th>\n",
       "      <th>Age</th>\n",
       "      <th>Annual Income (k$)</th>\n",
       "      <th>Spending Score (1-100)</th>\n",
       "    </tr>\n",
       "  </thead>\n",
       "  <tbody>\n",
       "    <tr>\n",
       "      <th>195</th>\n",
       "      <td>196</td>\n",
       "      <td>Female</td>\n",
       "      <td>35</td>\n",
       "      <td>120</td>\n",
       "      <td>79</td>\n",
       "    </tr>\n",
       "    <tr>\n",
       "      <th>196</th>\n",
       "      <td>197</td>\n",
       "      <td>Female</td>\n",
       "      <td>45</td>\n",
       "      <td>126</td>\n",
       "      <td>28</td>\n",
       "    </tr>\n",
       "    <tr>\n",
       "      <th>197</th>\n",
       "      <td>198</td>\n",
       "      <td>Male</td>\n",
       "      <td>32</td>\n",
       "      <td>126</td>\n",
       "      <td>74</td>\n",
       "    </tr>\n",
       "    <tr>\n",
       "      <th>198</th>\n",
       "      <td>199</td>\n",
       "      <td>Male</td>\n",
       "      <td>32</td>\n",
       "      <td>137</td>\n",
       "      <td>18</td>\n",
       "    </tr>\n",
       "    <tr>\n",
       "      <th>199</th>\n",
       "      <td>200</td>\n",
       "      <td>Male</td>\n",
       "      <td>30</td>\n",
       "      <td>137</td>\n",
       "      <td>83</td>\n",
       "    </tr>\n",
       "  </tbody>\n",
       "</table>\n",
       "</div>"
      ],
      "text/plain": [
       "     CustomerID  Gender  Age  Annual Income (k$)  Spending Score (1-100)\n",
       "195         196  Female   35                 120                      79\n",
       "196         197  Female   45                 126                      28\n",
       "197         198    Male   32                 126                      74\n",
       "198         199    Male   32                 137                      18\n",
       "199         200    Male   30                 137                      83"
      ]
     },
     "execution_count": 6,
     "metadata": {},
     "output_type": "execute_result"
    }
   ],
   "source": [
    "Data.tail()# we explore the tail on the datasets to understand it. Shows the bottom Data in the set"
   ]
  },
  {
   "cell_type": "code",
   "execution_count": 7,
   "metadata": {
    "execution": {
     "iopub.execute_input": "2021-01-16T10:09:06.368766Z",
     "iopub.status.busy": "2021-01-16T10:09:06.367697Z",
     "iopub.status.idle": "2021-01-16T10:09:06.372193Z",
     "shell.execute_reply": "2021-01-16T10:09:06.371690Z"
    },
    "papermill": {
     "duration": 0.071706,
     "end_time": "2021-01-16T10:09:06.372304",
     "exception": false,
     "start_time": "2021-01-16T10:09:06.300598",
     "status": "completed"
    },
    "tags": []
   },
   "outputs": [
    {
     "data": {
      "text/html": [
       "<div>\n",
       "<style scoped>\n",
       "    .dataframe tbody tr th:only-of-type {\n",
       "        vertical-align: middle;\n",
       "    }\n",
       "\n",
       "    .dataframe tbody tr th {\n",
       "        vertical-align: top;\n",
       "    }\n",
       "\n",
       "    .dataframe thead th {\n",
       "        text-align: right;\n",
       "    }\n",
       "</style>\n",
       "<table border=\"1\" class=\"dataframe\">\n",
       "  <thead>\n",
       "    <tr style=\"text-align: right;\">\n",
       "      <th></th>\n",
       "      <th>195</th>\n",
       "      <th>196</th>\n",
       "      <th>197</th>\n",
       "      <th>198</th>\n",
       "      <th>199</th>\n",
       "    </tr>\n",
       "  </thead>\n",
       "  <tbody>\n",
       "    <tr>\n",
       "      <th>CustomerID</th>\n",
       "      <td>196</td>\n",
       "      <td>197</td>\n",
       "      <td>198</td>\n",
       "      <td>199</td>\n",
       "      <td>200</td>\n",
       "    </tr>\n",
       "    <tr>\n",
       "      <th>Gender</th>\n",
       "      <td>Female</td>\n",
       "      <td>Female</td>\n",
       "      <td>Male</td>\n",
       "      <td>Male</td>\n",
       "      <td>Male</td>\n",
       "    </tr>\n",
       "    <tr>\n",
       "      <th>Age</th>\n",
       "      <td>35</td>\n",
       "      <td>45</td>\n",
       "      <td>32</td>\n",
       "      <td>32</td>\n",
       "      <td>30</td>\n",
       "    </tr>\n",
       "    <tr>\n",
       "      <th>Annual Income (k$)</th>\n",
       "      <td>120</td>\n",
       "      <td>126</td>\n",
       "      <td>126</td>\n",
       "      <td>137</td>\n",
       "      <td>137</td>\n",
       "    </tr>\n",
       "    <tr>\n",
       "      <th>Spending Score (1-100)</th>\n",
       "      <td>79</td>\n",
       "      <td>28</td>\n",
       "      <td>74</td>\n",
       "      <td>18</td>\n",
       "      <td>83</td>\n",
       "    </tr>\n",
       "  </tbody>\n",
       "</table>\n",
       "</div>"
      ],
      "text/plain": [
       "                           195     196   197   198   199\n",
       "CustomerID                 196     197   198   199   200\n",
       "Gender                  Female  Female  Male  Male  Male\n",
       "Age                         35      45    32    32    30\n",
       "Annual Income (k$)         120     126   126   137   137\n",
       "Spending Score (1-100)      79      28    74    18    83"
      ]
     },
     "execution_count": 7,
     "metadata": {},
     "output_type": "execute_result"
    }
   ],
   "source": [
    "Data.tail().T# We explore the data sets to check on the headers conformity and understand it."
   ]
  },
  {
   "cell_type": "code",
   "execution_count": 8,
   "metadata": {
    "execution": {
     "iopub.execute_input": "2021-01-16T10:09:06.494753Z",
     "iopub.status.busy": "2021-01-16T10:09:06.493909Z",
     "iopub.status.idle": "2021-01-16T10:09:06.497769Z",
     "shell.execute_reply": "2021-01-16T10:09:06.497114Z"
    },
    "papermill": {
     "duration": 0.071666,
     "end_time": "2021-01-16T10:09:06.497885",
     "exception": false,
     "start_time": "2021-01-16T10:09:06.426219",
     "status": "completed"
    },
    "tags": []
   },
   "outputs": [
    {
     "data": {
      "text/html": [
       "<div>\n",
       "<style scoped>\n",
       "    .dataframe tbody tr th:only-of-type {\n",
       "        vertical-align: middle;\n",
       "    }\n",
       "\n",
       "    .dataframe tbody tr th {\n",
       "        vertical-align: top;\n",
       "    }\n",
       "\n",
       "    .dataframe thead th {\n",
       "        text-align: right;\n",
       "    }\n",
       "</style>\n",
       "<table border=\"1\" class=\"dataframe\">\n",
       "  <thead>\n",
       "    <tr style=\"text-align: right;\">\n",
       "      <th></th>\n",
       "      <th>CustomerID</th>\n",
       "      <th>Gender</th>\n",
       "      <th>Age</th>\n",
       "      <th>Annual Income (k$)</th>\n",
       "      <th>Spending Score (1-100)</th>\n",
       "    </tr>\n",
       "  </thead>\n",
       "  <tbody>\n",
       "    <tr>\n",
       "      <th>128</th>\n",
       "      <td>129</td>\n",
       "      <td>Male</td>\n",
       "      <td>59</td>\n",
       "      <td>71</td>\n",
       "      <td>11</td>\n",
       "    </tr>\n",
       "    <tr>\n",
       "      <th>89</th>\n",
       "      <td>90</td>\n",
       "      <td>Female</td>\n",
       "      <td>50</td>\n",
       "      <td>58</td>\n",
       "      <td>46</td>\n",
       "    </tr>\n",
       "    <tr>\n",
       "      <th>137</th>\n",
       "      <td>138</td>\n",
       "      <td>Male</td>\n",
       "      <td>32</td>\n",
       "      <td>73</td>\n",
       "      <td>73</td>\n",
       "    </tr>\n",
       "    <tr>\n",
       "      <th>100</th>\n",
       "      <td>101</td>\n",
       "      <td>Female</td>\n",
       "      <td>23</td>\n",
       "      <td>62</td>\n",
       "      <td>41</td>\n",
       "    </tr>\n",
       "    <tr>\n",
       "      <th>139</th>\n",
       "      <td>140</td>\n",
       "      <td>Female</td>\n",
       "      <td>35</td>\n",
       "      <td>74</td>\n",
       "      <td>72</td>\n",
       "    </tr>\n",
       "    <tr>\n",
       "      <th>132</th>\n",
       "      <td>133</td>\n",
       "      <td>Female</td>\n",
       "      <td>25</td>\n",
       "      <td>72</td>\n",
       "      <td>34</td>\n",
       "    </tr>\n",
       "    <tr>\n",
       "      <th>187</th>\n",
       "      <td>188</td>\n",
       "      <td>Male</td>\n",
       "      <td>28</td>\n",
       "      <td>101</td>\n",
       "      <td>68</td>\n",
       "    </tr>\n",
       "    <tr>\n",
       "      <th>154</th>\n",
       "      <td>155</td>\n",
       "      <td>Female</td>\n",
       "      <td>47</td>\n",
       "      <td>78</td>\n",
       "      <td>16</td>\n",
       "    </tr>\n",
       "    <tr>\n",
       "      <th>123</th>\n",
       "      <td>124</td>\n",
       "      <td>Male</td>\n",
       "      <td>39</td>\n",
       "      <td>69</td>\n",
       "      <td>91</td>\n",
       "    </tr>\n",
       "    <tr>\n",
       "      <th>23</th>\n",
       "      <td>24</td>\n",
       "      <td>Male</td>\n",
       "      <td>31</td>\n",
       "      <td>25</td>\n",
       "      <td>73</td>\n",
       "    </tr>\n",
       "  </tbody>\n",
       "</table>\n",
       "</div>"
      ],
      "text/plain": [
       "     CustomerID  Gender  Age  Annual Income (k$)  Spending Score (1-100)\n",
       "128         129    Male   59                  71                      11\n",
       "89           90  Female   50                  58                      46\n",
       "137         138    Male   32                  73                      73\n",
       "100         101  Female   23                  62                      41\n",
       "139         140  Female   35                  74                      72\n",
       "132         133  Female   25                  72                      34\n",
       "187         188    Male   28                 101                      68\n",
       "154         155  Female   47                  78                      16\n",
       "123         124    Male   39                  69                      91\n",
       "23           24    Male   31                  25                      73"
      ]
     },
     "execution_count": 8,
     "metadata": {},
     "output_type": "execute_result"
    }
   ],
   "source": [
    "Data.sample(10)"
   ]
  },
  {
   "cell_type": "code",
   "execution_count": 9,
   "metadata": {
    "execution": {
     "iopub.execute_input": "2021-01-16T10:09:06.635061Z",
     "iopub.status.busy": "2021-01-16T10:09:06.632587Z",
     "iopub.status.idle": "2021-01-16T10:09:06.669267Z",
     "shell.execute_reply": "2021-01-16T10:09:06.669819Z"
    },
    "papermill": {
     "duration": 0.117025,
     "end_time": "2021-01-16T10:09:06.669988",
     "exception": false,
     "start_time": "2021-01-16T10:09:06.552963",
     "status": "completed"
    },
    "tags": []
   },
   "outputs": [
    {
     "data": {
      "text/html": [
       "<div>\n",
       "<style scoped>\n",
       "    .dataframe tbody tr th:only-of-type {\n",
       "        vertical-align: middle;\n",
       "    }\n",
       "\n",
       "    .dataframe tbody tr th {\n",
       "        vertical-align: top;\n",
       "    }\n",
       "\n",
       "    .dataframe thead th {\n",
       "        text-align: right;\n",
       "    }\n",
       "</style>\n",
       "<table border=\"1\" class=\"dataframe\">\n",
       "  <thead>\n",
       "    <tr style=\"text-align: right;\">\n",
       "      <th></th>\n",
       "      <th>0</th>\n",
       "      <th>1</th>\n",
       "      <th>2</th>\n",
       "      <th>3</th>\n",
       "      <th>4</th>\n",
       "      <th>5</th>\n",
       "      <th>6</th>\n",
       "      <th>7</th>\n",
       "      <th>8</th>\n",
       "      <th>9</th>\n",
       "      <th>...</th>\n",
       "      <th>190</th>\n",
       "      <th>191</th>\n",
       "      <th>192</th>\n",
       "      <th>193</th>\n",
       "      <th>194</th>\n",
       "      <th>195</th>\n",
       "      <th>196</th>\n",
       "      <th>197</th>\n",
       "      <th>198</th>\n",
       "      <th>199</th>\n",
       "    </tr>\n",
       "  </thead>\n",
       "  <tbody>\n",
       "    <tr>\n",
       "      <th>CustomerID</th>\n",
       "      <td>1</td>\n",
       "      <td>2</td>\n",
       "      <td>3</td>\n",
       "      <td>4</td>\n",
       "      <td>5</td>\n",
       "      <td>6</td>\n",
       "      <td>7</td>\n",
       "      <td>8</td>\n",
       "      <td>9</td>\n",
       "      <td>10</td>\n",
       "      <td>...</td>\n",
       "      <td>191</td>\n",
       "      <td>192</td>\n",
       "      <td>193</td>\n",
       "      <td>194</td>\n",
       "      <td>195</td>\n",
       "      <td>196</td>\n",
       "      <td>197</td>\n",
       "      <td>198</td>\n",
       "      <td>199</td>\n",
       "      <td>200</td>\n",
       "    </tr>\n",
       "    <tr>\n",
       "      <th>Gender</th>\n",
       "      <td>Male</td>\n",
       "      <td>Male</td>\n",
       "      <td>Female</td>\n",
       "      <td>Female</td>\n",
       "      <td>Female</td>\n",
       "      <td>Female</td>\n",
       "      <td>Female</td>\n",
       "      <td>Female</td>\n",
       "      <td>Male</td>\n",
       "      <td>Female</td>\n",
       "      <td>...</td>\n",
       "      <td>Female</td>\n",
       "      <td>Female</td>\n",
       "      <td>Male</td>\n",
       "      <td>Female</td>\n",
       "      <td>Female</td>\n",
       "      <td>Female</td>\n",
       "      <td>Female</td>\n",
       "      <td>Male</td>\n",
       "      <td>Male</td>\n",
       "      <td>Male</td>\n",
       "    </tr>\n",
       "    <tr>\n",
       "      <th>Age</th>\n",
       "      <td>19</td>\n",
       "      <td>21</td>\n",
       "      <td>20</td>\n",
       "      <td>23</td>\n",
       "      <td>31</td>\n",
       "      <td>22</td>\n",
       "      <td>35</td>\n",
       "      <td>23</td>\n",
       "      <td>64</td>\n",
       "      <td>30</td>\n",
       "      <td>...</td>\n",
       "      <td>34</td>\n",
       "      <td>32</td>\n",
       "      <td>33</td>\n",
       "      <td>38</td>\n",
       "      <td>47</td>\n",
       "      <td>35</td>\n",
       "      <td>45</td>\n",
       "      <td>32</td>\n",
       "      <td>32</td>\n",
       "      <td>30</td>\n",
       "    </tr>\n",
       "    <tr>\n",
       "      <th>Annual Income (k$)</th>\n",
       "      <td>15</td>\n",
       "      <td>15</td>\n",
       "      <td>16</td>\n",
       "      <td>16</td>\n",
       "      <td>17</td>\n",
       "      <td>17</td>\n",
       "      <td>18</td>\n",
       "      <td>18</td>\n",
       "      <td>19</td>\n",
       "      <td>19</td>\n",
       "      <td>...</td>\n",
       "      <td>103</td>\n",
       "      <td>103</td>\n",
       "      <td>113</td>\n",
       "      <td>113</td>\n",
       "      <td>120</td>\n",
       "      <td>120</td>\n",
       "      <td>126</td>\n",
       "      <td>126</td>\n",
       "      <td>137</td>\n",
       "      <td>137</td>\n",
       "    </tr>\n",
       "    <tr>\n",
       "      <th>Spending Score (1-100)</th>\n",
       "      <td>39</td>\n",
       "      <td>81</td>\n",
       "      <td>6</td>\n",
       "      <td>77</td>\n",
       "      <td>40</td>\n",
       "      <td>76</td>\n",
       "      <td>6</td>\n",
       "      <td>94</td>\n",
       "      <td>3</td>\n",
       "      <td>72</td>\n",
       "      <td>...</td>\n",
       "      <td>23</td>\n",
       "      <td>69</td>\n",
       "      <td>8</td>\n",
       "      <td>91</td>\n",
       "      <td>16</td>\n",
       "      <td>79</td>\n",
       "      <td>28</td>\n",
       "      <td>74</td>\n",
       "      <td>18</td>\n",
       "      <td>83</td>\n",
       "    </tr>\n",
       "  </tbody>\n",
       "</table>\n",
       "<p>5 rows × 200 columns</p>\n",
       "</div>"
      ],
      "text/plain": [
       "                         0     1       2       3       4       5       6    \\\n",
       "CustomerID                 1     2       3       4       5       6       7   \n",
       "Gender                  Male  Male  Female  Female  Female  Female  Female   \n",
       "Age                       19    21      20      23      31      22      35   \n",
       "Annual Income (k$)        15    15      16      16      17      17      18   \n",
       "Spending Score (1-100)    39    81       6      77      40      76       6   \n",
       "\n",
       "                           7     8       9    ...     190     191   192  \\\n",
       "CustomerID                   8     9      10  ...     191     192   193   \n",
       "Gender                  Female  Male  Female  ...  Female  Female  Male   \n",
       "Age                         23    64      30  ...      34      32    33   \n",
       "Annual Income (k$)          18    19      19  ...     103     103   113   \n",
       "Spending Score (1-100)      94     3      72  ...      23      69     8   \n",
       "\n",
       "                           193     194     195     196   197   198   199  \n",
       "CustomerID                 194     195     196     197   198   199   200  \n",
       "Gender                  Female  Female  Female  Female  Male  Male  Male  \n",
       "Age                         38      47      35      45    32    32    30  \n",
       "Annual Income (k$)         113     120     120     126   126   137   137  \n",
       "Spending Score (1-100)      91      16      79      28    74    18    83  \n",
       "\n",
       "[5 rows x 200 columns]"
      ]
     },
     "execution_count": 9,
     "metadata": {},
     "output_type": "execute_result"
    }
   ],
   "source": [
    "Data.T# we visualize the data set in tabular form"
   ]
  },
  {
   "cell_type": "markdown",
   "metadata": {
    "papermill": {
     "duration": 0.057001,
     "end_time": "2021-01-16T10:09:06.794219",
     "exception": false,
     "start_time": "2021-01-16T10:09:06.737218",
     "status": "completed"
    },
    "tags": []
   },
   "source": [
    "# 3. Clean the Data."
   ]
  },
  {
   "cell_type": "code",
   "execution_count": 10,
   "metadata": {
    "execution": {
     "iopub.execute_input": "2021-01-16T10:09:06.915793Z",
     "iopub.status.busy": "2021-01-16T10:09:06.914907Z",
     "iopub.status.idle": "2021-01-16T10:09:06.919826Z",
     "shell.execute_reply": "2021-01-16T10:09:06.919104Z"
    },
    "papermill": {
     "duration": 0.069353,
     "end_time": "2021-01-16T10:09:06.919953",
     "exception": false,
     "start_time": "2021-01-16T10:09:06.850600",
     "status": "completed"
    },
    "tags": []
   },
   "outputs": [
    {
     "data": {
      "text/plain": [
       "CustomerID                0\n",
       "Gender                    0\n",
       "Age                       0\n",
       "Annual Income (k$)        0\n",
       "Spending Score (1-100)    0\n",
       "dtype: int64"
      ]
     },
     "execution_count": 10,
     "metadata": {},
     "output_type": "execute_result"
    }
   ],
   "source": [
    "Data.isnull().sum()#Check if there are any missing values."
   ]
  },
  {
   "cell_type": "code",
   "execution_count": 11,
   "metadata": {
    "execution": {
     "iopub.execute_input": "2021-01-16T10:09:07.035411Z",
     "iopub.status.busy": "2021-01-16T10:09:07.034627Z",
     "iopub.status.idle": "2021-01-16T10:09:07.037759Z",
     "shell.execute_reply": "2021-01-16T10:09:07.037199Z"
    },
    "papermill": {
     "duration": 0.061994,
     "end_time": "2021-01-16T10:09:07.037869",
     "exception": false,
     "start_time": "2021-01-16T10:09:06.975875",
     "status": "completed"
    },
    "tags": []
   },
   "outputs": [],
   "source": [
    "# This shows our data set does not have any missing values which means its clean."
   ]
  },
  {
   "cell_type": "code",
   "execution_count": 12,
   "metadata": {
    "execution": {
     "iopub.execute_input": "2021-01-16T10:09:07.161920Z",
     "iopub.status.busy": "2021-01-16T10:09:07.160900Z",
     "iopub.status.idle": "2021-01-16T10:09:07.165605Z",
     "shell.execute_reply": "2021-01-16T10:09:07.165103Z"
    },
    "papermill": {
     "duration": 0.073007,
     "end_time": "2021-01-16T10:09:07.165734",
     "exception": false,
     "start_time": "2021-01-16T10:09:07.092727",
     "status": "completed"
    },
    "tags": []
   },
   "outputs": [
    {
     "data": {
      "text/plain": [
       "200"
      ]
     },
     "execution_count": 12,
     "metadata": {},
     "output_type": "execute_result"
    }
   ],
   "source": [
    "len(Data)#Shows how much data the Dataset contains:"
   ]
  },
  {
   "cell_type": "code",
   "execution_count": 13,
   "metadata": {
    "execution": {
     "iopub.execute_input": "2021-01-16T10:09:07.291871Z",
     "iopub.status.busy": "2021-01-16T10:09:07.290964Z",
     "iopub.status.idle": "2021-01-16T10:09:07.295495Z",
     "shell.execute_reply": "2021-01-16T10:09:07.294831Z"
    },
    "papermill": {
     "duration": 0.074056,
     "end_time": "2021-01-16T10:09:07.295619",
     "exception": false,
     "start_time": "2021-01-16T10:09:07.221563",
     "status": "completed"
    },
    "tags": []
   },
   "outputs": [
    {
     "name": "stdout",
     "output_type": "stream",
     "text": [
      "<class 'pandas.core.frame.DataFrame'>\n",
      "RangeIndex: 200 entries, 0 to 199\n",
      "Data columns (total 5 columns):\n",
      " #   Column                  Non-Null Count  Dtype \n",
      "---  ------                  --------------  ----- \n",
      " 0   CustomerID              200 non-null    int64 \n",
      " 1   Gender                  200 non-null    object\n",
      " 2   Age                     200 non-null    int64 \n",
      " 3   Annual Income (k$)      200 non-null    int64 \n",
      " 4   Spending Score (1-100)  200 non-null    int64 \n",
      "dtypes: int64(4), object(1)\n",
      "memory usage: 7.9+ KB\n"
     ]
    }
   ],
   "source": [
    "Data.info() #This displays all columns and their data types,"
   ]
  },
  {
   "cell_type": "code",
   "execution_count": 14,
   "metadata": {
    "execution": {
     "iopub.execute_input": "2021-01-16T10:09:07.418057Z",
     "iopub.status.busy": "2021-01-16T10:09:07.416970Z",
     "iopub.status.idle": "2021-01-16T10:09:07.437320Z",
     "shell.execute_reply": "2021-01-16T10:09:07.437914Z"
    },
    "papermill": {
     "duration": 0.08474,
     "end_time": "2021-01-16T10:09:07.438061",
     "exception": false,
     "start_time": "2021-01-16T10:09:07.353321",
     "status": "completed"
    },
    "tags": []
   },
   "outputs": [
    {
     "data": {
      "text/html": [
       "<div>\n",
       "<style scoped>\n",
       "    .dataframe tbody tr th:only-of-type {\n",
       "        vertical-align: middle;\n",
       "    }\n",
       "\n",
       "    .dataframe tbody tr th {\n",
       "        vertical-align: top;\n",
       "    }\n",
       "\n",
       "    .dataframe thead th {\n",
       "        text-align: right;\n",
       "    }\n",
       "</style>\n",
       "<table border=\"1\" class=\"dataframe\">\n",
       "  <thead>\n",
       "    <tr style=\"text-align: right;\">\n",
       "      <th></th>\n",
       "      <th>CustomerID</th>\n",
       "      <th>Age</th>\n",
       "      <th>Annual Income (k$)</th>\n",
       "      <th>Spending Score (1-100)</th>\n",
       "    </tr>\n",
       "  </thead>\n",
       "  <tbody>\n",
       "    <tr>\n",
       "      <th>count</th>\n",
       "      <td>200.000000</td>\n",
       "      <td>200.000000</td>\n",
       "      <td>200.000000</td>\n",
       "      <td>200.000000</td>\n",
       "    </tr>\n",
       "    <tr>\n",
       "      <th>mean</th>\n",
       "      <td>100.500000</td>\n",
       "      <td>38.850000</td>\n",
       "      <td>60.560000</td>\n",
       "      <td>50.200000</td>\n",
       "    </tr>\n",
       "    <tr>\n",
       "      <th>std</th>\n",
       "      <td>57.879185</td>\n",
       "      <td>13.969007</td>\n",
       "      <td>26.264721</td>\n",
       "      <td>25.823522</td>\n",
       "    </tr>\n",
       "    <tr>\n",
       "      <th>min</th>\n",
       "      <td>1.000000</td>\n",
       "      <td>18.000000</td>\n",
       "      <td>15.000000</td>\n",
       "      <td>1.000000</td>\n",
       "    </tr>\n",
       "    <tr>\n",
       "      <th>25%</th>\n",
       "      <td>50.750000</td>\n",
       "      <td>28.750000</td>\n",
       "      <td>41.500000</td>\n",
       "      <td>34.750000</td>\n",
       "    </tr>\n",
       "    <tr>\n",
       "      <th>50%</th>\n",
       "      <td>100.500000</td>\n",
       "      <td>36.000000</td>\n",
       "      <td>61.500000</td>\n",
       "      <td>50.000000</td>\n",
       "    </tr>\n",
       "    <tr>\n",
       "      <th>75%</th>\n",
       "      <td>150.250000</td>\n",
       "      <td>49.000000</td>\n",
       "      <td>78.000000</td>\n",
       "      <td>73.000000</td>\n",
       "    </tr>\n",
       "    <tr>\n",
       "      <th>max</th>\n",
       "      <td>200.000000</td>\n",
       "      <td>70.000000</td>\n",
       "      <td>137.000000</td>\n",
       "      <td>99.000000</td>\n",
       "    </tr>\n",
       "  </tbody>\n",
       "</table>\n",
       "</div>"
      ],
      "text/plain": [
       "       CustomerID         Age  Annual Income (k$)  Spending Score (1-100)\n",
       "count  200.000000  200.000000          200.000000              200.000000\n",
       "mean   100.500000   38.850000           60.560000               50.200000\n",
       "std     57.879185   13.969007           26.264721               25.823522\n",
       "min      1.000000   18.000000           15.000000                1.000000\n",
       "25%     50.750000   28.750000           41.500000               34.750000\n",
       "50%    100.500000   36.000000           61.500000               50.000000\n",
       "75%    150.250000   49.000000           78.000000               73.000000\n",
       "max    200.000000   70.000000          137.000000               99.000000"
      ]
     },
     "execution_count": 14,
     "metadata": {},
     "output_type": "execute_result"
    }
   ],
   "source": [
    "Data.describe()# This shows you some basic descriptive statistics for all numeric columns in the data set.which includes the count,mean,standard deviation,min and max"
   ]
  },
  {
   "cell_type": "markdown",
   "metadata": {
    "papermill": {
     "duration": 0.055943,
     "end_time": "2021-01-16T10:09:07.551930",
     "exception": false,
     "start_time": "2021-01-16T10:09:07.495987",
     "status": "completed"
    },
    "tags": []
   },
   "source": [
    "# 4. Enrich the data set to obtain reports."
   ]
  },
  {
   "cell_type": "code",
   "execution_count": 15,
   "metadata": {
    "execution": {
     "iopub.execute_input": "2021-01-16T10:09:07.675092Z",
     "iopub.status.busy": "2021-01-16T10:09:07.674147Z",
     "iopub.status.idle": "2021-01-16T10:09:07.679044Z",
     "shell.execute_reply": "2021-01-16T10:09:07.679534Z"
    },
    "papermill": {
     "duration": 0.069341,
     "end_time": "2021-01-16T10:09:07.679711",
     "exception": false,
     "start_time": "2021-01-16T10:09:07.610370",
     "status": "completed"
    },
    "tags": []
   },
   "outputs": [
    {
     "data": {
      "text/plain": [
       "CustomerID                 int64\n",
       "Gender                    object\n",
       "Age                        int64\n",
       "Annual Income (k$)         int64\n",
       "Spending Score (1-100)     int64\n",
       "dtype: object"
      ]
     },
     "execution_count": 15,
     "metadata": {},
     "output_type": "execute_result"
    }
   ],
   "source": [
    "#We now check for the data types in the data set.\n",
    "Data.dtypes"
   ]
  },
  {
   "cell_type": "code",
   "execution_count": 16,
   "metadata": {
    "execution": {
     "iopub.execute_input": "2021-01-16T10:09:07.801617Z",
     "iopub.status.busy": "2021-01-16T10:09:07.800600Z",
     "iopub.status.idle": "2021-01-16T10:09:07.805153Z",
     "shell.execute_reply": "2021-01-16T10:09:07.804551Z"
    },
    "papermill": {
     "duration": 0.068238,
     "end_time": "2021-01-16T10:09:07.805276",
     "exception": false,
     "start_time": "2021-01-16T10:09:07.737038",
     "status": "completed"
    },
    "tags": []
   },
   "outputs": [
    {
     "data": {
      "text/plain": [
       "Index(['CustomerID', 'Gender', 'Age', 'Annual Income (k$)',\n",
       "       'Spending Score (1-100)'],\n",
       "      dtype='object')"
      ]
     },
     "execution_count": 16,
     "metadata": {},
     "output_type": "execute_result"
    }
   ],
   "source": [
    "# We now visualize the columns in the data set.\n",
    "Data.columns"
   ]
  },
  {
   "cell_type": "code",
   "execution_count": 17,
   "metadata": {
    "execution": {
     "iopub.execute_input": "2021-01-16T10:09:07.929166Z",
     "iopub.status.busy": "2021-01-16T10:09:07.928468Z",
     "iopub.status.idle": "2021-01-16T10:09:07.931551Z",
     "shell.execute_reply": "2021-01-16T10:09:07.931043Z"
    },
    "papermill": {
     "duration": 0.068266,
     "end_time": "2021-01-16T10:09:07.931680",
     "exception": false,
     "start_time": "2021-01-16T10:09:07.863414",
     "status": "completed"
    },
    "tags": []
   },
   "outputs": [],
   "source": [
    "# We now rename the columns in the data set.\n",
    "\n",
    "Data.rename(columns={'Annual Income (k$)':'AnnualIncome','Spending Score (1-100)':'SpendingScore'},inplace=True)"
   ]
  },
  {
   "cell_type": "code",
   "execution_count": 18,
   "metadata": {
    "execution": {
     "iopub.execute_input": "2021-01-16T10:09:08.054333Z",
     "iopub.status.busy": "2021-01-16T10:09:08.053633Z",
     "iopub.status.idle": "2021-01-16T10:09:08.059557Z",
     "shell.execute_reply": "2021-01-16T10:09:08.058403Z"
    },
    "papermill": {
     "duration": 0.069296,
     "end_time": "2021-01-16T10:09:08.059794",
     "exception": false,
     "start_time": "2021-01-16T10:09:07.990498",
     "status": "completed"
    },
    "tags": []
   },
   "outputs": [
    {
     "name": "stdout",
     "output_type": "stream",
     "text": [
      "1 . columns is : CustomerID\n",
      "2 . columns is : Gender\n",
      "3 . columns is : Age\n",
      "4 . columns is : AnnualIncome\n",
      "5 . columns is : SpendingScore\n"
     ]
    }
   ],
   "source": [
    "# We use the concept of for loop in our data set  to understatand for data's columns\n",
    "for i,col in enumerate(Data.columns):\n",
    "    print((i+1),'. columns is :',col)"
   ]
  },
  {
   "cell_type": "code",
   "execution_count": 19,
   "metadata": {
    "execution": {
     "iopub.execute_input": "2021-01-16T10:09:08.181599Z",
     "iopub.status.busy": "2021-01-16T10:09:08.180934Z",
     "iopub.status.idle": "2021-01-16T10:09:08.185956Z",
     "shell.execute_reply": "2021-01-16T10:09:08.186537Z"
    },
    "papermill": {
     "duration": 0.066835,
     "end_time": "2021-01-16T10:09:08.186697",
     "exception": false,
     "start_time": "2021-01-16T10:09:08.119862",
     "status": "completed"
    },
    "tags": []
   },
   "outputs": [
    {
     "data": {
      "text/plain": [
       "(200, 5)"
      ]
     },
     "execution_count": 19,
     "metadata": {},
     "output_type": "execute_result"
    }
   ],
   "source": [
    "# Lets Perform the row and columns count in our data set.\n",
    "Data.shape"
   ]
  },
  {
   "cell_type": "code",
   "execution_count": 20,
   "metadata": {
    "execution": {
     "iopub.execute_input": "2021-01-16T10:09:08.307540Z",
     "iopub.status.busy": "2021-01-16T10:09:08.306930Z",
     "iopub.status.idle": "2021-01-16T10:09:08.315103Z",
     "shell.execute_reply": "2021-01-16T10:09:08.315776Z"
    },
    "papermill": {
     "duration": 0.070024,
     "end_time": "2021-01-16T10:09:08.315945",
     "exception": false,
     "start_time": "2021-01-16T10:09:08.245921",
     "status": "completed"
    },
    "tags": []
   },
   "outputs": [
    {
     "data": {
      "text/plain": [
       "CustomerID       0\n",
       "Gender           0\n",
       "Age              0\n",
       "AnnualIncome     0\n",
       "SpendingScore    0\n",
       "dtype: int64"
      ]
     },
     "execution_count": 20,
     "metadata": {},
     "output_type": "execute_result"
    }
   ],
   "source": [
    "#Check for null values count  in our data set.\n",
    "Data.isnull().sum()"
   ]
  },
  {
   "cell_type": "code",
   "execution_count": 21,
   "metadata": {
    "execution": {
     "iopub.execute_input": "2021-01-16T10:09:08.442474Z",
     "iopub.status.busy": "2021-01-16T10:09:08.441845Z",
     "iopub.status.idle": "2021-01-16T10:09:08.449524Z",
     "shell.execute_reply": "2021-01-16T10:09:08.448860Z"
    },
    "papermill": {
     "duration": 0.072098,
     "end_time": "2021-01-16T10:09:08.449637",
     "exception": false,
     "start_time": "2021-01-16T10:09:08.377539",
     "status": "completed"
    },
    "tags": []
   },
   "outputs": [
    {
     "name": "stdout",
     "output_type": "stream",
     "text": [
      "[False, False, False, False, False]\n"
     ]
    }
   ],
   "source": [
    "#Lets check for every feature control  null value in this data # False mean our data is clean.\n",
    "print(list(Data.isnull().any()))"
   ]
  },
  {
   "cell_type": "code",
   "execution_count": 22,
   "metadata": {
    "execution": {
     "iopub.execute_input": "2021-01-16T10:09:08.575817Z",
     "iopub.status.busy": "2021-01-16T10:09:08.574824Z",
     "iopub.status.idle": "2021-01-16T10:09:08.578475Z",
     "shell.execute_reply": "2021-01-16T10:09:08.579059Z"
    },
    "papermill": {
     "duration": 0.069171,
     "end_time": "2021-01-16T10:09:08.579221",
     "exception": false,
     "start_time": "2021-01-16T10:09:08.510050",
     "status": "completed"
    },
    "tags": []
   },
   "outputs": [
    {
     "data": {
      "text/plain": [
       "False"
      ]
     },
     "execution_count": 22,
     "metadata": {},
     "output_type": "execute_result"
    }
   ],
   "source": [
    "#lWe check for data control null values in our data sets.\n",
    "Data.isnull().values.any()"
   ]
  },
  {
   "cell_type": "code",
   "execution_count": 23,
   "metadata": {
    "execution": {
     "iopub.execute_input": "2021-01-16T10:09:08.704944Z",
     "iopub.status.busy": "2021-01-16T10:09:08.703913Z",
     "iopub.status.idle": "2021-01-16T10:09:08.721665Z",
     "shell.execute_reply": "2021-01-16T10:09:08.720919Z"
    },
    "papermill": {
     "duration": 0.081351,
     "end_time": "2021-01-16T10:09:08.721787",
     "exception": false,
     "start_time": "2021-01-16T10:09:08.640436",
     "status": "completed"
    },
    "tags": []
   },
   "outputs": [
    {
     "data": {
      "text/html": [
       "<div>\n",
       "<style scoped>\n",
       "    .dataframe tbody tr th:only-of-type {\n",
       "        vertical-align: middle;\n",
       "    }\n",
       "\n",
       "    .dataframe tbody tr th {\n",
       "        vertical-align: top;\n",
       "    }\n",
       "\n",
       "    .dataframe thead th {\n",
       "        text-align: right;\n",
       "    }\n",
       "</style>\n",
       "<table border=\"1\" class=\"dataframe\">\n",
       "  <thead>\n",
       "    <tr style=\"text-align: right;\">\n",
       "      <th></th>\n",
       "      <th>CustomerID</th>\n",
       "      <th>Age</th>\n",
       "      <th>AnnualIncome</th>\n",
       "      <th>SpendingScore</th>\n",
       "    </tr>\n",
       "  </thead>\n",
       "  <tbody>\n",
       "    <tr>\n",
       "      <th>CustomerID</th>\n",
       "      <td>1.000000</td>\n",
       "      <td>-0.026763</td>\n",
       "      <td>0.977548</td>\n",
       "      <td>0.013835</td>\n",
       "    </tr>\n",
       "    <tr>\n",
       "      <th>Age</th>\n",
       "      <td>-0.026763</td>\n",
       "      <td>1.000000</td>\n",
       "      <td>-0.012398</td>\n",
       "      <td>-0.327227</td>\n",
       "    </tr>\n",
       "    <tr>\n",
       "      <th>AnnualIncome</th>\n",
       "      <td>0.977548</td>\n",
       "      <td>-0.012398</td>\n",
       "      <td>1.000000</td>\n",
       "      <td>0.009903</td>\n",
       "    </tr>\n",
       "    <tr>\n",
       "      <th>SpendingScore</th>\n",
       "      <td>0.013835</td>\n",
       "      <td>-0.327227</td>\n",
       "      <td>0.009903</td>\n",
       "      <td>1.000000</td>\n",
       "    </tr>\n",
       "  </tbody>\n",
       "</table>\n",
       "</div>"
      ],
      "text/plain": [
       "               CustomerID       Age  AnnualIncome  SpendingScore\n",
       "CustomerID       1.000000 -0.026763      0.977548       0.013835\n",
       "Age             -0.026763  1.000000     -0.012398      -0.327227\n",
       "AnnualIncome     0.977548 -0.012398      1.000000       0.009903\n",
       "SpendingScore    0.013835 -0.327227      0.009903       1.000000"
      ]
     },
     "execution_count": 23,
     "metadata": {},
     "output_type": "execute_result"
    }
   ],
   "source": [
    "#checking for data correlation in our data set.\n",
    "Data.corr()"
   ]
  },
  {
   "cell_type": "code",
   "execution_count": 24,
   "metadata": {
    "execution": {
     "iopub.execute_input": "2021-01-16T10:09:08.857780Z",
     "iopub.status.busy": "2021-01-16T10:09:08.856687Z",
     "iopub.status.idle": "2021-01-16T10:09:08.860769Z",
     "shell.execute_reply": "2021-01-16T10:09:08.861229Z"
    },
    "papermill": {
     "duration": 0.077569,
     "end_time": "2021-01-16T10:09:08.861373",
     "exception": false,
     "start_time": "2021-01-16T10:09:08.783804",
     "status": "completed"
    },
    "tags": []
   },
   "outputs": [
    {
     "data": {
      "text/html": [
       "<div>\n",
       "<style scoped>\n",
       "    .dataframe tbody tr th:only-of-type {\n",
       "        vertical-align: middle;\n",
       "    }\n",
       "\n",
       "    .dataframe tbody tr th {\n",
       "        vertical-align: top;\n",
       "    }\n",
       "\n",
       "    .dataframe thead th {\n",
       "        text-align: right;\n",
       "    }\n",
       "</style>\n",
       "<table border=\"1\" class=\"dataframe\">\n",
       "  <thead>\n",
       "    <tr style=\"text-align: right;\">\n",
       "      <th></th>\n",
       "      <th>Age</th>\n",
       "      <th>AnnualIncome</th>\n",
       "      <th>SpendingScore</th>\n",
       "    </tr>\n",
       "  </thead>\n",
       "  <tbody>\n",
       "    <tr>\n",
       "      <th>Age</th>\n",
       "      <td>1.000000</td>\n",
       "      <td>-0.012398</td>\n",
       "      <td>-0.327227</td>\n",
       "    </tr>\n",
       "    <tr>\n",
       "      <th>AnnualIncome</th>\n",
       "      <td>-0.012398</td>\n",
       "      <td>1.000000</td>\n",
       "      <td>0.009903</td>\n",
       "    </tr>\n",
       "    <tr>\n",
       "      <th>SpendingScore</th>\n",
       "      <td>-0.327227</td>\n",
       "      <td>0.009903</td>\n",
       "      <td>1.000000</td>\n",
       "    </tr>\n",
       "  </tbody>\n",
       "</table>\n",
       "</div>"
      ],
      "text/plain": [
       "                    Age  AnnualIncome  SpendingScore\n",
       "Age            1.000000     -0.012398      -0.327227\n",
       "AnnualIncome  -0.012398      1.000000       0.009903\n",
       "SpendingScore -0.327227      0.009903       1.000000"
      ]
     },
     "execution_count": 24,
     "metadata": {},
     "output_type": "execute_result"
    }
   ],
   "source": [
    "Data.iloc[:,1:].corr()# we check for data correlation in our features as headers."
   ]
  },
  {
   "cell_type": "markdown",
   "metadata": {
    "papermill": {
     "duration": 0.061738,
     "end_time": "2021-01-16T10:09:08.984641",
     "exception": false,
     "start_time": "2021-01-16T10:09:08.922903",
     "status": "completed"
    },
    "tags": []
   },
   "source": [
    "# 5.Find Insights and Visualize Data set."
   ]
  },
  {
   "cell_type": "markdown",
   "metadata": {
    "papermill": {
     "duration": 0.060849,
     "end_time": "2021-01-16T10:09:09.109042",
     "exception": false,
     "start_time": "2021-01-16T10:09:09.048193",
     "status": "completed"
    },
    "tags": []
   },
   "source": [
    "We intend to drop the customer id from our data set since the customer id does not have the insights or does not draw any correlationship or unique feature with the rest of features in the data set. Hence we end up having Age,AnnualIncome,Spending Score and Gender in our data set.\n",
    "Therefore we will use this to visualize the data set."
   ]
  },
  {
   "cell_type": "code",
   "execution_count": 25,
   "metadata": {
    "execution": {
     "iopub.execute_input": "2021-01-16T10:09:09.235587Z",
     "iopub.status.busy": "2021-01-16T10:09:09.234573Z",
     "iopub.status.idle": "2021-01-16T10:09:09.240061Z",
     "shell.execute_reply": "2021-01-16T10:09:09.240635Z"
    },
    "papermill": {
     "duration": 0.070287,
     "end_time": "2021-01-16T10:09:09.240810",
     "exception": false,
     "start_time": "2021-01-16T10:09:09.170523",
     "status": "completed"
    },
    "tags": []
   },
   "outputs": [],
   "source": [
    "#del Data['CustomerID']\n",
    "Data.drop('CustomerID', axis=1, inplace=True)"
   ]
  },
  {
   "cell_type": "code",
   "execution_count": 26,
   "metadata": {
    "execution": {
     "iopub.execute_input": "2021-01-16T10:09:09.369005Z",
     "iopub.status.busy": "2021-01-16T10:09:09.368004Z",
     "iopub.status.idle": "2021-01-16T10:09:09.383317Z",
     "shell.execute_reply": "2021-01-16T10:09:09.382584Z"
    },
    "papermill": {
     "duration": 0.081017,
     "end_time": "2021-01-16T10:09:09.383441",
     "exception": false,
     "start_time": "2021-01-16T10:09:09.302424",
     "status": "completed"
    },
    "tags": []
   },
   "outputs": [
    {
     "data": {
      "text/html": [
       "<div>\n",
       "<style scoped>\n",
       "    .dataframe tbody tr th:only-of-type {\n",
       "        vertical-align: middle;\n",
       "    }\n",
       "\n",
       "    .dataframe tbody tr th {\n",
       "        vertical-align: top;\n",
       "    }\n",
       "\n",
       "    .dataframe thead th {\n",
       "        text-align: right;\n",
       "    }\n",
       "</style>\n",
       "<table border=\"1\" class=\"dataframe\">\n",
       "  <thead>\n",
       "    <tr style=\"text-align: right;\">\n",
       "      <th></th>\n",
       "      <th>Gender</th>\n",
       "      <th>Age</th>\n",
       "      <th>AnnualIncome</th>\n",
       "      <th>SpendingScore</th>\n",
       "    </tr>\n",
       "  </thead>\n",
       "  <tbody>\n",
       "    <tr>\n",
       "      <th>0</th>\n",
       "      <td>Male</td>\n",
       "      <td>19</td>\n",
       "      <td>15</td>\n",
       "      <td>39</td>\n",
       "    </tr>\n",
       "    <tr>\n",
       "      <th>1</th>\n",
       "      <td>Male</td>\n",
       "      <td>21</td>\n",
       "      <td>15</td>\n",
       "      <td>81</td>\n",
       "    </tr>\n",
       "    <tr>\n",
       "      <th>2</th>\n",
       "      <td>Female</td>\n",
       "      <td>20</td>\n",
       "      <td>16</td>\n",
       "      <td>6</td>\n",
       "    </tr>\n",
       "    <tr>\n",
       "      <th>3</th>\n",
       "      <td>Female</td>\n",
       "      <td>23</td>\n",
       "      <td>16</td>\n",
       "      <td>77</td>\n",
       "    </tr>\n",
       "    <tr>\n",
       "      <th>4</th>\n",
       "      <td>Female</td>\n",
       "      <td>31</td>\n",
       "      <td>17</td>\n",
       "      <td>40</td>\n",
       "    </tr>\n",
       "    <tr>\n",
       "      <th>...</th>\n",
       "      <td>...</td>\n",
       "      <td>...</td>\n",
       "      <td>...</td>\n",
       "      <td>...</td>\n",
       "    </tr>\n",
       "    <tr>\n",
       "      <th>195</th>\n",
       "      <td>Female</td>\n",
       "      <td>35</td>\n",
       "      <td>120</td>\n",
       "      <td>79</td>\n",
       "    </tr>\n",
       "    <tr>\n",
       "      <th>196</th>\n",
       "      <td>Female</td>\n",
       "      <td>45</td>\n",
       "      <td>126</td>\n",
       "      <td>28</td>\n",
       "    </tr>\n",
       "    <tr>\n",
       "      <th>197</th>\n",
       "      <td>Male</td>\n",
       "      <td>32</td>\n",
       "      <td>126</td>\n",
       "      <td>74</td>\n",
       "    </tr>\n",
       "    <tr>\n",
       "      <th>198</th>\n",
       "      <td>Male</td>\n",
       "      <td>32</td>\n",
       "      <td>137</td>\n",
       "      <td>18</td>\n",
       "    </tr>\n",
       "    <tr>\n",
       "      <th>199</th>\n",
       "      <td>Male</td>\n",
       "      <td>30</td>\n",
       "      <td>137</td>\n",
       "      <td>83</td>\n",
       "    </tr>\n",
       "  </tbody>\n",
       "</table>\n",
       "<p>200 rows × 4 columns</p>\n",
       "</div>"
      ],
      "text/plain": [
       "     Gender  Age  AnnualIncome  SpendingScore\n",
       "0      Male   19            15             39\n",
       "1      Male   21            15             81\n",
       "2    Female   20            16              6\n",
       "3    Female   23            16             77\n",
       "4    Female   31            17             40\n",
       "..      ...  ...           ...            ...\n",
       "195  Female   35           120             79\n",
       "196  Female   45           126             28\n",
       "197    Male   32           126             74\n",
       "198    Male   32           137             18\n",
       "199    Male   30           137             83\n",
       "\n",
       "[200 rows x 4 columns]"
      ]
     },
     "execution_count": 26,
     "metadata": {},
     "output_type": "execute_result"
    }
   ],
   "source": [
    "Data# we now check if we have dropped successfully the CustomerId column  in our data set."
   ]
  },
  {
   "cell_type": "code",
   "execution_count": 27,
   "metadata": {
    "execution": {
     "iopub.execute_input": "2021-01-16T10:09:09.512090Z",
     "iopub.status.busy": "2021-01-16T10:09:09.511400Z",
     "iopub.status.idle": "2021-01-16T10:09:09.818095Z",
     "shell.execute_reply": "2021-01-16T10:09:09.817510Z"
    },
    "papermill": {
     "duration": 0.372095,
     "end_time": "2021-01-16T10:09:09.818234",
     "exception": false,
     "start_time": "2021-01-16T10:09:09.446139",
     "status": "completed"
    },
    "tags": []
   },
   "outputs": [
    {
     "data": {
      "image/png": "[encoded data removed]",
      "text/plain": [
       "<Figure size 1080x576 with 2 Axes>"
      ]
     },
     "metadata": {
      "needs_background": "light"
     },
     "output_type": "display_data"
    }
   ],
   "source": [
    "# We now check for Correlation between the different attributes of the Mall Customer Segementation Dataset,\n",
    "plt.rcParams['figure.figsize'] = (15, 8)\n",
    "sns.heatmap(Data.corr(), cmap = 'Wistia', annot = True)\n",
    "plt.title('Heatmap for the Data', fontsize = 20)\n",
    "plt.show()"
   ]
  },
  {
   "cell_type": "markdown",
   "metadata": {
    "papermill": {
     "duration": 0.065202,
     "end_time": "2021-01-16T10:09:09.948436",
     "exception": false,
     "start_time": "2021-01-16T10:09:09.883234",
     "status": "completed"
    },
    "tags": []
   },
   "source": [
    "The above graph shows the correlation between the different attributes of the Mall Customer Segementation Dataset, \n",
    "This Heat map reflects the most correlated features with Orange Color and least correlated features with yellow color"
   ]
  },
  {
   "cell_type": "markdown",
   "metadata": {
    "papermill": {
     "duration": 0.064663,
     "end_time": "2021-01-16T10:09:10.076916",
     "exception": false,
     "start_time": "2021-01-16T10:09:10.012253",
     "status": "completed"
    },
    "tags": []
   },
   "source": [
    "# 5.1 Customer Gender Visualization"
   ]
  },
  {
   "cell_type": "markdown",
   "metadata": {
    "papermill": {
     "duration": 0.063324,
     "end_time": "2021-01-16T10:09:10.204788",
     "exception": false,
     "start_time": "2021-01-16T10:09:10.141464",
     "status": "completed"
    },
    "tags": []
   },
   "source": [
    "We now create a bar graph and pie chart to check on customer Gender(Male and Female) distribution on our customer mall data set."
   ]
  },
  {
   "cell_type": "code",
   "execution_count": 28,
   "metadata": {
    "execution": {
     "iopub.execute_input": "2021-01-16T10:09:10.347088Z",
     "iopub.status.busy": "2021-01-16T10:09:10.346416Z",
     "iopub.status.idle": "2021-01-16T10:09:10.351613Z",
     "shell.execute_reply": "2021-01-16T10:09:10.350919Z"
    },
    "papermill": {
     "duration": 0.075587,
     "end_time": "2021-01-16T10:09:10.351746",
     "exception": false,
     "start_time": "2021-01-16T10:09:10.276159",
     "status": "completed"
    },
    "tags": []
   },
   "outputs": [
    {
     "data": {
      "text/plain": [
       "array(['Male', 'Female'], dtype=object)"
      ]
     },
     "execution_count": 28,
     "metadata": {},
     "output_type": "execute_result"
    }
   ],
   "source": [
    "#We now check for the data Gender Unique\n",
    "Data.Gender.unique()"
   ]
  },
  {
   "cell_type": "code",
   "execution_count": 29,
   "metadata": {
    "execution": {
     "iopub.execute_input": "2021-01-16T10:09:10.489232Z",
     "iopub.status.busy": "2021-01-16T10:09:10.488386Z",
     "iopub.status.idle": "2021-01-16T10:09:10.492738Z",
     "shell.execute_reply": "2021-01-16T10:09:10.493224Z"
    },
    "papermill": {
     "duration": 0.077099,
     "end_time": "2021-01-16T10:09:10.493377",
     "exception": false,
     "start_time": "2021-01-16T10:09:10.416278",
     "status": "completed"
    },
    "tags": []
   },
   "outputs": [
    {
     "data": {
      "text/plain": [
       "Female    112\n",
       "Male       88\n",
       "Name: Gender, dtype: int64"
      ]
     },
     "execution_count": 29,
     "metadata": {},
     "output_type": "execute_result"
    }
   ],
   "source": [
    "#Lets now check on Data Gender counts for our data set.\n",
    "Data.Gender.value_counts()"
   ]
  },
  {
   "cell_type": "markdown",
   "metadata": {
    "papermill": {
     "duration": 0.065281,
     "end_time": "2021-01-16T10:09:10.624289",
     "exception": false,
     "start_time": "2021-01-16T10:09:10.559008",
     "status": "completed"
    },
    "tags": []
   },
   "source": [
    "## What gender is higher in density to the customer population?"
   ]
  },
  {
   "cell_type": "markdown",
   "metadata": {
    "papermill": {
     "duration": 0.066025,
     "end_time": "2021-01-16T10:09:10.755471",
     "exception": false,
     "start_time": "2021-01-16T10:09:10.689446",
     "status": "completed"
    },
    "tags": []
   },
   "source": [
    "We can only answer this question by plotting the unique count for our mall customers. which counts the unique number of entries for each Gender within the data set in Mall."
   ]
  },
  {
   "cell_type": "code",
   "execution_count": 30,
   "metadata": {
    "execution": {
     "iopub.execute_input": "2021-01-16T10:09:10.907313Z",
     "iopub.status.busy": "2021-01-16T10:09:10.900859Z",
     "iopub.status.idle": "2021-01-16T10:09:11.039127Z",
     "shell.execute_reply": "2021-01-16T10:09:11.038522Z"
    },
    "papermill": {
     "duration": 0.218045,
     "end_time": "2021-01-16T10:09:11.039244",
     "exception": false,
     "start_time": "2021-01-16T10:09:10.821199",
     "status": "completed"
    },
    "tags": []
   },
   "outputs": [
    {
     "data": {
      "image/png": "[encoded data removed]",
      "text/plain": [
       "<Figure size 1080x576 with 1 Axes>"
      ]
     },
     "metadata": {
      "needs_background": "light"
     },
     "output_type": "display_data"
    }
   ],
   "source": [
    "#We plot a graph on data gender count for women and men for our data set.\n",
    "sns.countplot(Data.Gender)\n",
    "plt.title('Gender Count')\n",
    "plt.show()"
   ]
  },
  {
   "cell_type": "markdown",
   "metadata": {
    "papermill": {
     "duration": 0.06582,
     "end_time": "2021-01-16T10:09:11.172234",
     "exception": false,
     "start_time": "2021-01-16T10:09:11.106414",
     "status": "completed"
    },
    "tags": []
   },
   "source": [
    "## 5. 2 We Visualize the Ratio of Male: Female by use of Pie Chart."
   ]
  },
  {
   "cell_type": "markdown",
   "metadata": {
    "papermill": {
     "duration": 0.068863,
     "end_time": "2021-01-16T10:09:11.307627",
     "exception": false,
     "start_time": "2021-01-16T10:09:11.238764",
     "status": "completed"
    },
    "tags": []
   },
   "source": [
    "From the above barplot, we observe that the number of females is higher than the males. Now, let us visualize a pie chart to observe the ratio of male and female distribution."
   ]
  },
  {
   "cell_type": "code",
   "execution_count": 31,
   "metadata": {
    "execution": {
     "iopub.execute_input": "2021-01-16T10:09:11.459083Z",
     "iopub.status.busy": "2021-01-16T10:09:11.457612Z",
     "iopub.status.idle": "2021-01-16T10:09:11.515766Z",
     "shell.execute_reply": "2021-01-16T10:09:11.514944Z"
    },
    "papermill": {
     "duration": 0.140144,
     "end_time": "2021-01-16T10:09:11.515892",
     "exception": false,
     "start_time": "2021-01-16T10:09:11.375748",
     "status": "completed"
    },
    "tags": []
   },
   "outputs": [
    {
     "data": {
      "image/png": "[encoded data removed]",
      "text/plain": [
       "<Figure size 504x504 with 1 Axes>"
      ]
     },
     "metadata": {},
     "output_type": "display_data"
    }
   ],
   "source": [
    "# we now match label on data set gender..assign blue to male and red to female\n",
    "labels=Data.Gender.unique()\n",
    "colors=['blue','red']\n",
    "explode=[0,0.1]\n",
    "values=Data.Gender.value_counts().values\n",
    "\n",
    "#We now carry out the visualization\n",
    "plt.figure(figsize=(7,7))\n",
    "plt.pie(values,explode=explode,labels=labels,colors=colors,autopct='%1.1f%%')\n",
    "plt.title('Male and Female Chart Distribution',color='black',fontsize=10)\n",
    "plt.show()"
   ]
  },
  {
   "cell_type": "markdown",
   "metadata": {
    "papermill": {
     "duration": 0.06619,
     "end_time": "2021-01-16T10:09:11.650348",
     "exception": false,
     "start_time": "2021-01-16T10:09:11.584158",
     "status": "completed"
    },
    "tags": []
   },
   "source": [
    "Now From the above piechart, we conclude that the percentage of females is 56%, whereas the percentage of male in the customer dataset is 44%"
   ]
  },
  {
   "cell_type": "code",
   "execution_count": 32,
   "metadata": {
    "execution": {
     "iopub.execute_input": "2021-01-16T10:09:11.790638Z",
     "iopub.status.busy": "2021-01-16T10:09:11.789851Z",
     "iopub.status.idle": "2021-01-16T10:09:12.455182Z",
     "shell.execute_reply": "2021-01-16T10:09:12.455745Z"
    },
    "papermill": {
     "duration": 0.739389,
     "end_time": "2021-01-16T10:09:12.455936",
     "exception": false,
     "start_time": "2021-01-16T10:09:11.716547",
     "status": "completed"
    },
    "tags": []
   },
   "outputs": [
    {
     "data": {
      "image/png": "[encoded data removed]",
      "text/plain": [
       "<Figure size 1296x864 with 4 Axes>"
      ]
     },
     "metadata": {
      "needs_background": "light"
     },
     "output_type": "display_data"
    }
   ],
   "source": [
    "# We now visualize the data in histogram distribution \n",
    "Data.hist(figsize=(18,12))\n",
    "plt.title('All Data Show Histogram System')\n",
    "plt.show()"
   ]
  },
  {
   "cell_type": "markdown",
   "metadata": {
    "papermill": {
     "duration": 0.067908,
     "end_time": "2021-01-16T10:09:12.592800",
     "exception": false,
     "start_time": "2021-01-16T10:09:12.524892",
     "status": "completed"
    },
    "tags": []
   },
   "source": [
    "## 6.Iteration of Mall Customer Data.\n",
    "\n",
    "## 6.1 Customer's distribution based on age."
   ]
  },
  {
   "cell_type": "markdown",
   "metadata": {
    "papermill": {
     "duration": 0.069556,
     "end_time": "2021-01-16T10:09:12.730731",
     "exception": false,
     "start_time": "2021-01-16T10:09:12.661175",
     "status": "completed"
    },
    "tags": []
   },
   "source": [
    "We now check the customer distribution based on the age. our obejctive is to identify which age group visits the Mall mostly.\n",
    "Therefore we now plot the customer's distribution based on the age."
   ]
  },
  {
   "cell_type": "code",
   "execution_count": 33,
   "metadata": {
    "execution": {
     "iopub.execute_input": "2021-01-16T10:09:12.877529Z",
     "iopub.status.busy": "2021-01-16T10:09:12.876487Z",
     "iopub.status.idle": "2021-01-16T10:09:13.474503Z",
     "shell.execute_reply": "2021-01-16T10:09:13.475042Z"
    },
    "papermill": {
     "duration": 0.675335,
     "end_time": "2021-01-16T10:09:13.475201",
     "exception": false,
     "start_time": "2021-01-16T10:09:12.799866",
     "status": "completed"
    },
    "tags": []
   },
   "outputs": [
    {
     "data": {
      "text/plain": [
       "Text(0.5, 1.0, 'Age Distribution')"
      ]
     },
     "execution_count": 33,
     "metadata": {},
     "output_type": "execute_result"
    },
    {
     "data": {
      "image/png": "[encoded data removed]",
      "text/plain": [
       "<Figure size 1440x360 with 1 Axes>"
      ]
     },
     "metadata": {
      "needs_background": "light"
     },
     "output_type": "display_data"
    }
   ],
   "source": [
    "# Customer's distribution based on age\n",
    "plt.figure(figsize=(20,5))\n",
    "sns.countplot(Data['Age'])\n",
    "plt.xticks(rotation=90)\n",
    "plt.title('Age Distribution')"
   ]
  },
  {
   "cell_type": "markdown",
   "metadata": {
    "papermill": {
     "duration": 0.068299,
     "end_time": "2021-01-16T10:09:13.614080",
     "exception": false,
     "start_time": "2021-01-16T10:09:13.545781",
     "status": "completed"
    },
    "tags": []
   },
   "source": [
    "We note that people who are of  age between 25 to 40 are mostly visiting mall than other age groups.\n",
    "\n",
    "People at Age 32 are the Most Frequent Visitors in the Mall.\n",
    "People of Age 55, 56, 64, 69 are very less frequent in the Malls (older age,above 50s groups are lesser frequent in comparison).\n",
    "Ages from 19 and 31 are very much frequent."
   ]
  },
  {
   "cell_type": "code",
   "execution_count": 34,
   "metadata": {
    "execution": {
     "iopub.execute_input": "2021-01-16T10:09:13.758221Z",
     "iopub.status.busy": "2021-01-16T10:09:13.757140Z",
     "iopub.status.idle": "2021-01-16T10:09:13.772905Z",
     "shell.execute_reply": "2021-01-16T10:09:13.772256Z"
    },
    "papermill": {
     "duration": 0.08906,
     "end_time": "2021-01-16T10:09:13.773029",
     "exception": false,
     "start_time": "2021-01-16T10:09:13.683969",
     "status": "completed"
    },
    "tags": []
   },
   "outputs": [
    {
     "name": "stdout",
     "output_type": "stream",
     "text": [
      "Max  : 70\n",
      "Min  : 18\n",
      "Mean : 39.80681818181818\n",
      "Std  : 15.426407372472942\n"
     ]
    }
   ],
   "source": [
    "#We now check for Male Age Distribution\n",
    "print('Max  :',max(Data[Data['Gender']=='Male'].Age))\n",
    "print('Min  :',min(Data[Data['Gender']=='Male'].Age))\n",
    "print('Mean :',np.mean(Data[Data['Gender']=='Male'].Age))\n",
    "print('Std  :',np.std(Data[Data['Gender']=='Male'].Age))"
   ]
  },
  {
   "cell_type": "markdown",
   "metadata": {
    "papermill": {
     "duration": 0.070373,
     "end_time": "2021-01-16T10:09:13.913308",
     "exception": false,
     "start_time": "2021-01-16T10:09:13.842935",
     "status": "completed"
    },
    "tags": []
   },
   "source": [
    "The maximum Age is 70, minimum 18 average age 39 for Male Gender in our data set."
   ]
  },
  {
   "cell_type": "code",
   "execution_count": 35,
   "metadata": {
    "execution": {
     "iopub.execute_input": "2021-01-16T10:09:14.065031Z",
     "iopub.status.busy": "2021-01-16T10:09:14.064128Z",
     "iopub.status.idle": "2021-01-16T10:09:14.068073Z",
     "shell.execute_reply": "2021-01-16T10:09:14.068579Z"
    },
    "papermill": {
     "duration": 0.086274,
     "end_time": "2021-01-16T10:09:14.068740",
     "exception": false,
     "start_time": "2021-01-16T10:09:13.982466",
     "status": "completed"
    },
    "tags": []
   },
   "outputs": [
    {
     "name": "stdout",
     "output_type": "stream",
     "text": [
      "Max  : 68\n",
      "Min  : 18\n",
      "Mean : 38.098214285714285\n",
      "Std  : 12.587522039581053\n"
     ]
    }
   ],
   "source": [
    "#Lets Check for Female Age Distribution in our Data Set.\n",
    "print('Max  :',max(Data[Data['Gender']=='Female'].Age))\n",
    "print('Min  :',min(Data[Data['Gender']=='Female'].Age))\n",
    "print('Mean :',np.mean(Data[Data['Gender']=='Female'].Age))\n",
    "print('Std  :',np.std(Data[Data['Gender']=='Female'].Age))"
   ]
  },
  {
   "cell_type": "markdown",
   "metadata": {
    "papermill": {
     "duration": 0.070074,
     "end_time": "2021-01-16T10:09:14.208839",
     "exception": false,
     "start_time": "2021-01-16T10:09:14.138765",
     "status": "completed"
    },
    "tags": []
   },
   "source": [
    "The maximum Age is 68, minimum 18 average age 38 for Female Gender in our data set with a standard diaviation of 12.5"
   ]
  },
  {
   "cell_type": "markdown",
   "metadata": {
    "papermill": {
     "duration": 0.071221,
     "end_time": "2021-01-16T10:09:14.349817",
     "exception": false,
     "start_time": "2021-01-16T10:09:14.278596",
     "status": "completed"
    },
    "tags": []
   },
   "source": [
    "# 6.2 Customer Annuallncome Per Gender."
   ]
  },
  {
   "cell_type": "markdown",
   "metadata": {
    "papermill": {
     "duration": 0.069311,
     "end_time": "2021-01-16T10:09:14.491772",
     "exception": false,
     "start_time": "2021-01-16T10:09:14.422461",
     "status": "completed"
    },
    "tags": []
   },
   "source": [
    "We now check on the customer annual income using the, our objective is to determine the maximum, minimum, mean and the standard deviation for our Male customers in the mall."
   ]
  },
  {
   "cell_type": "code",
   "execution_count": 36,
   "metadata": {
    "execution": {
     "iopub.execute_input": "2021-01-16T10:09:14.648410Z",
     "iopub.status.busy": "2021-01-16T10:09:14.647590Z",
     "iopub.status.idle": "2021-01-16T10:09:14.651557Z",
     "shell.execute_reply": "2021-01-16T10:09:14.652366Z"
    },
    "papermill": {
     "duration": 0.090167,
     "end_time": "2021-01-16T10:09:14.652544",
     "exception": false,
     "start_time": "2021-01-16T10:09:14.562377",
     "status": "completed"
    },
    "tags": []
   },
   "outputs": [
    {
     "name": "stdout",
     "output_type": "stream",
     "text": [
      "Max  : 137\n",
      "Min  : 15\n",
      "Mean : 62.22727272727273\n",
      "Std  : 26.486586344758496\n"
     ]
    }
   ],
   "source": [
    "#check for the Male AnnualIncome \n",
    "print('Max  :',max(Data[Data['Gender']=='Male'].AnnualIncome))\n",
    "print('Min  :',min(Data[Data['Gender']=='Male'].AnnualIncome))\n",
    "print('Mean :',np.mean(Data[Data['Gender']=='Male'].AnnualIncome))\n",
    "print('Std  :',np.std(Data[Data['Gender']=='Male'].AnnualIncome))"
   ]
  },
  {
   "cell_type": "markdown",
   "metadata": {
    "papermill": {
     "duration": 0.07104,
     "end_time": "2021-01-16T10:09:14.794111",
     "exception": false,
     "start_time": "2021-01-16T10:09:14.723071",
     "status": "completed"
    },
    "tags": []
   },
   "source": [
    "We note that our maximum is, 137, minimum, 15, mean, 62.2, with standard variation of 26.4 anuallcome. "
   ]
  },
  {
   "cell_type": "code",
   "execution_count": 37,
   "metadata": {
    "execution": {
     "iopub.execute_input": "2021-01-16T10:09:14.947677Z",
     "iopub.status.busy": "2021-01-16T10:09:14.946890Z",
     "iopub.status.idle": "2021-01-16T10:09:14.951125Z",
     "shell.execute_reply": "2021-01-16T10:09:14.950470Z"
    },
    "papermill": {
     "duration": 0.085408,
     "end_time": "2021-01-16T10:09:14.951246",
     "exception": false,
     "start_time": "2021-01-16T10:09:14.865838",
     "status": "completed"
    },
    "tags": []
   },
   "outputs": [
    {
     "name": "stdout",
     "output_type": "stream",
     "text": [
      "Max  : 126\n",
      "Min  : 16\n",
      "Mean : 59.25\n",
      "Std  : 25.8955663607278\n"
     ]
    }
   ],
   "source": [
    "#check for the Female AnnualIncome \n",
    "print('Max  :',max(Data[Data['Gender']=='Female'].AnnualIncome))\n",
    "print('Min  :',min(Data[Data['Gender']=='Female'].AnnualIncome))\n",
    "print('Mean :',np.mean(Data[Data['Gender']=='Female'].AnnualIncome))\n",
    "print('Std  :',np.std(Data[Data['Gender']=='Female'].AnnualIncome))"
   ]
  },
  {
   "cell_type": "markdown",
   "metadata": {
    "papermill": {
     "duration": 0.071368,
     "end_time": "2021-01-16T10:09:15.094880",
     "exception": false,
     "start_time": "2021-01-16T10:09:15.023512",
     "status": "completed"
    },
    "tags": []
   },
   "source": [
    "We note that our maximum is, 126, minimum, 16, mean, 59.25, with standard variation of 25.8 anuallcome."
   ]
  },
  {
   "cell_type": "code",
   "execution_count": 38,
   "metadata": {
    "execution": {
     "iopub.execute_input": "2021-01-16T10:09:15.246545Z",
     "iopub.status.busy": "2021-01-16T10:09:15.244372Z",
     "iopub.status.idle": "2021-01-16T10:09:15.952505Z",
     "shell.execute_reply": "2021-01-16T10:09:15.951834Z"
    },
    "papermill": {
     "duration": 0.785734,
     "end_time": "2021-01-16T10:09:15.952615",
     "exception": false,
     "start_time": "2021-01-16T10:09:15.166881",
     "status": "completed"
    },
    "tags": []
   },
   "outputs": [
    {
     "data": {
      "text/plain": [
       "Text(0.5, 1.0, 'Distribution of AnnualIncome')"
      ]
     },
     "execution_count": 38,
     "metadata": {},
     "output_type": "execute_result"
    },
    {
     "data": {
      "image/png": "[encoded data removed]",
      "text/plain": [
       "<Figure size 1440x360 with 1 Axes>"
      ]
     },
     "metadata": {
      "needs_background": "light"
     },
     "output_type": "display_data"
    }
   ],
   "source": [
    "#We now visualize the Distribution of Annual Income of the Mall Customers.\n",
    "plt.figure(figsize=(20,5))\n",
    "sns.countplot(Data['AnnualIncome'])\n",
    "plt.xticks(rotation=90)\n",
    "plt.title('Distribution of AnnualIncome')"
   ]
  },
  {
   "cell_type": "markdown",
   "metadata": {
    "papermill": {
     "duration": 0.072935,
     "end_time": "2021-01-16T10:09:16.098430",
     "exception": false,
     "start_time": "2021-01-16T10:09:16.025495",
     "status": "completed"
    },
    "tags": []
   },
   "source": [
    "We note that the A wide veriety of income is visible ranging from 15k$ to 137k$ we can visualize the range on our bar plot.\n",
    "\n",
    "Customers above 100k$ are 12\n",
    "\n",
    "Customers below 25k$ are 22\n",
    "\n",
    "So 166 customers have income between 25k$ and 100k$(ie.,83%)"
   ]
  },
  {
   "cell_type": "markdown",
   "metadata": {
    "papermill": {
     "duration": 0.072121,
     "end_time": "2021-01-16T10:09:16.243084",
     "exception": false,
     "start_time": "2021-01-16T10:09:16.170963",
     "status": "completed"
    },
    "tags": []
   },
   "source": [
    "# 6.3 Analyzing Spending Score of the Customers."
   ]
  },
  {
   "cell_type": "markdown",
   "metadata": {
    "papermill": {
     "duration": 0.076746,
     "end_time": "2021-01-16T10:09:16.391535",
     "exception": false,
     "start_time": "2021-01-16T10:09:16.314789",
     "status": "completed"
    },
    "tags": []
   },
   "source": [
    "We need to determine the minimum, average and the maximum spending score for our Mall Customers."
   ]
  },
  {
   "cell_type": "code",
   "execution_count": 39,
   "metadata": {
    "execution": {
     "iopub.execute_input": "2021-01-16T10:09:16.553411Z",
     "iopub.status.busy": "2021-01-16T10:09:16.552596Z",
     "iopub.status.idle": "2021-01-16T10:09:16.558444Z",
     "shell.execute_reply": "2021-01-16T10:09:16.559085Z"
    },
    "papermill": {
     "duration": 0.092821,
     "end_time": "2021-01-16T10:09:16.559239",
     "exception": false,
     "start_time": "2021-01-16T10:09:16.466418",
     "status": "completed"
    },
    "tags": []
   },
   "outputs": [
    {
     "name": "stdout",
     "output_type": "stream",
     "text": [
      "Max  : 97\n",
      "Min  : 1\n",
      "Mean : 48.51136363636363\n",
      "Std  : 27.737812359739767\n"
     ]
    }
   ],
   "source": [
    "#We now check for the male customers spending score.\n",
    "print('Max  :',max(Data[Data['Gender']=='Male'].SpendingScore))\n",
    "print('Min  :',min(Data[Data['Gender']=='Male'].SpendingScore))\n",
    "print('Mean :',np.mean(Data[Data['Gender']=='Male'].SpendingScore))\n",
    "print('Std  :',np.std(Data[Data['Gender']=='Male'].SpendingScore))"
   ]
  },
  {
   "cell_type": "code",
   "execution_count": 40,
   "metadata": {
    "execution": {
     "iopub.execute_input": "2021-01-16T10:09:16.718290Z",
     "iopub.status.busy": "2021-01-16T10:09:16.717545Z",
     "iopub.status.idle": "2021-01-16T10:09:16.722471Z",
     "shell.execute_reply": "2021-01-16T10:09:16.721779Z"
    },
    "papermill": {
     "duration": 0.090144,
     "end_time": "2021-01-16T10:09:16.722587",
     "exception": false,
     "start_time": "2021-01-16T10:09:16.632443",
     "status": "completed"
    },
    "tags": []
   },
   "outputs": [
    {
     "name": "stdout",
     "output_type": "stream",
     "text": [
      "Max  : 99\n",
      "Min  : 5\n",
      "Mean : 51.526785714285715\n",
      "Std  : 24.007052468801657\n"
     ]
    }
   ],
   "source": [
    "#We now check for the female customers spending score.\n",
    "print('Max  :',max(Data[Data['Gender']=='Female'].SpendingScore))\n",
    "print('Min  :',min(Data[Data['Gender']=='Female'].SpendingScore))\n",
    "print('Mean :',np.mean(Data[Data['Gender']=='Female'].SpendingScore))\n",
    "print('Std  :',np.std(Data[Data['Gender']=='Female'].SpendingScore))"
   ]
  },
  {
   "cell_type": "code",
   "execution_count": 41,
   "metadata": {
    "execution": {
     "iopub.execute_input": "2021-01-16T10:09:16.875216Z",
     "iopub.status.busy": "2021-01-16T10:09:16.874443Z",
     "iopub.status.idle": "2021-01-16T10:09:16.878015Z",
     "shell.execute_reply": "2021-01-16T10:09:16.877457Z"
    },
    "papermill": {
     "duration": 0.081941,
     "end_time": "2021-01-16T10:09:16.878137",
     "exception": false,
     "start_time": "2021-01-16T10:09:16.796196",
     "status": "completed"
    },
    "tags": []
   },
   "outputs": [],
   "source": [
    "#We now visualize the Spending Score for our Mall Customers.\n",
    "#plt.figure(figsize=(18,8))\n",
    "#sns.countplot(Data['SpendingScore'])\n",
    "#plt.xticks(rotation=90)\n",
    "#plt.title('Distribution of SpendingScore')"
   ]
  },
  {
   "cell_type": "code",
   "execution_count": 42,
   "metadata": {
    "execution": {
     "iopub.execute_input": "2021-01-16T10:09:17.029903Z",
     "iopub.status.busy": "2021-01-16T10:09:17.029200Z",
     "iopub.status.idle": "2021-01-16T10:09:17.248373Z",
     "shell.execute_reply": "2021-01-16T10:09:17.249093Z"
    },
    "papermill": {
     "duration": 0.296783,
     "end_time": "2021-01-16T10:09:17.249241",
     "exception": false,
     "start_time": "2021-01-16T10:09:16.952458",
     "status": "completed"
    },
    "tags": []
   },
   "outputs": [
    {
     "data": {
      "image/png": "[encoded data removed]",
      "text/plain": [
       "<Figure size 1080x576 with 1 Axes>"
      ]
     },
     "metadata": {
      "needs_background": "light"
     },
     "output_type": "display_data"
    },
    {
     "data": {
      "text/plain": [
       "<Figure size 1296x576 with 0 Axes>"
      ]
     },
     "metadata": {},
     "output_type": "display_data"
    }
   ],
   "source": [
    "# We now visualize our data using Histogram to show Spending Score Distribution\n",
    "\n",
    "plt.title('Distribution of SpendingScore')\n",
    "sns.distplot(Data[\"SpendingScore\"])\n",
    "plt.figure(figsize=(18,8))\n",
    "plt.show()\n"
   ]
  },
  {
   "cell_type": "markdown",
   "metadata": {
    "papermill": {
     "duration": 0.075885,
     "end_time": "2021-01-16T10:09:17.400216",
     "exception": false,
     "start_time": "2021-01-16T10:09:17.324331",
     "status": "completed"
    },
    "tags": []
   },
   "source": [
    "From our Data set we note that there are customers having 1 as spending score also, and 99 Spending score,\n",
    "Which shows that the mall caters to the variety of Customers with Varying needs and requirements available in the Mall.\n",
    "Most of the Customers have their Spending Score in the range of 30-70."
   ]
  },
  {
   "cell_type": "markdown",
   "metadata": {
    "papermill": {
     "duration": 0.075229,
     "end_time": "2021-01-16T10:09:17.550310",
     "exception": false,
     "start_time": "2021-01-16T10:09:17.475081",
     "status": "completed"
    },
    "tags": []
   },
   "source": [
    "# 6.4  More Comparisons on Spending Score vs Gender and Annual Income Vs Gender."
   ]
  },
  {
   "cell_type": "code",
   "execution_count": 43,
   "metadata": {
    "execution": {
     "iopub.execute_input": "2021-01-16T10:09:17.804774Z",
     "iopub.status.busy": "2021-01-16T10:09:17.803688Z",
     "iopub.status.idle": "2021-01-16T10:09:18.189732Z",
     "shell.execute_reply": "2021-01-16T10:09:18.188991Z"
    },
    "papermill": {
     "duration": 0.523082,
     "end_time": "2021-01-16T10:09:18.189848",
     "exception": false,
     "start_time": "2021-01-16T10:09:17.666766",
     "status": "completed"
    },
    "tags": []
   },
   "outputs": [
    {
     "data": {
      "image/png": "[encoded data removed]",
      "text/plain": [
       "<Figure size 1080x576 with 1 Axes>"
      ]
     },
     "metadata": {
      "needs_background": "light"
     },
     "output_type": "display_data"
    },
    {
     "data": {
      "image/png": "[encoded data removed]",
      "text/plain": [
       "<Figure size 1080x576 with 1 Axes>"
      ]
     },
     "metadata": {
      "needs_background": "light"
     },
     "output_type": "display_data"
    }
   ],
   "source": [
    "#We now map our data y label with Spending Score vs x label with Gender.\n",
    "sns.violinplot(y=Data['SpendingScore'],x=Data['Gender'])\n",
    "plt.title('SpendingScore & Gender')\n",
    "plt.show()\n",
    "\n",
    "#We now map our data y label with AnnualIncome vs x label with Gender.\n",
    "sns.violinplot(y=Data['AnnualIncome'],x=Data['Gender'])\n",
    "plt.title('AnnualIncome & Gender')\n",
    "plt.show()"
   ]
  },
  {
   "cell_type": "markdown",
   "metadata": {
    "papermill": {
     "duration": 0.078374,
     "end_time": "2021-01-16T10:09:18.348093",
     "exception": false,
     "start_time": "2021-01-16T10:09:18.269719",
     "status": "completed"
    },
    "tags": []
   },
   "source": [
    "##  Based on Spending Score.\n",
    "From the above we note that Regarding Spending Score\n",
    "The Male customers  have a Spending Score estimate of  25 to 70 and the female customers depict a spending score estimate  of  35 to 75\n",
    "Therefore we can Conclude that the female customers are ranked as the most shopping customers at the mall.\n",
    "\n",
    "## Based on Annuallncome.\n",
    "from the above the male most of the males have a spending annual income between 45k$ to 75K$ and female customers have a annual income of 35k$ to 75k$.\n"
   ]
  },
  {
   "cell_type": "markdown",
   "metadata": {
    "papermill": {
     "duration": 0.078056,
     "end_time": "2021-01-16T10:09:18.505042",
     "exception": false,
     "start_time": "2021-01-16T10:09:18.426986",
     "status": "completed"
    },
    "tags": []
   },
   "source": [
    "# 7.0 K Means Clustering."
   ]
  },
  {
   "cell_type": "markdown",
   "metadata": {
    "papermill": {
     "duration": 0.078349,
     "end_time": "2021-01-16T10:09:18.663054",
     "exception": false,
     "start_time": "2021-01-16T10:09:18.584705",
     "status": "completed"
    },
    "tags": []
   },
   "source": [
    "K-means clustering is a clustering algorithm that aims to partition n observations into k clusters.\n",
    "Initialisation – K initial “means” (centroids) are generated at random\n",
    "Assignment – K clusters are created by associating each observation with the nearest centroid\n",
    "Update – The centroid of the clusters becomes the new mean,\n",
    "Assignment and Update are repeated iteratively until convergence\n",
    "The end result is that the sum of squared errors is minimised between points and their respective centroids.\n",
    "We will use KMeans Clustering. At first we will find the optimal clusters based on inertia and using elbow method. The distance between the centroids and the data points should be less."
   ]
  },
  {
   "cell_type": "code",
   "execution_count": 44,
   "metadata": {
    "execution": {
     "iopub.execute_input": "2021-01-16T10:09:18.826678Z",
     "iopub.status.busy": "2021-01-16T10:09:18.825940Z",
     "iopub.status.idle": "2021-01-16T10:09:18.833830Z",
     "shell.execute_reply": "2021-01-16T10:09:18.833126Z"
    },
    "papermill": {
     "duration": 0.09234,
     "end_time": "2021-01-16T10:09:18.833961",
     "exception": false,
     "start_time": "2021-01-16T10:09:18.741621",
     "status": "completed"
    },
    "tags": []
   },
   "outputs": [
    {
     "data": {
      "text/plain": [
       "Gender           0\n",
       "Age              0\n",
       "AnnualIncome     0\n",
       "SpendingScore    0\n",
       "dtype: int64"
      ]
     },
     "execution_count": 44,
     "metadata": {},
     "output_type": "execute_result"
    }
   ],
   "source": [
    "# We recheck for the missing value computation.\n",
    "Data.isnull().sum()"
   ]
  },
  {
   "cell_type": "code",
   "execution_count": 45,
   "metadata": {
    "execution": {
     "iopub.execute_input": "2021-01-16T10:09:18.999905Z",
     "iopub.status.busy": "2021-01-16T10:09:18.999192Z",
     "iopub.status.idle": "2021-01-16T10:09:19.002431Z",
     "shell.execute_reply": "2021-01-16T10:09:19.001883Z"
    },
    "papermill": {
     "duration": 0.088121,
     "end_time": "2021-01-16T10:09:19.002542",
     "exception": false,
     "start_time": "2021-01-16T10:09:18.914421",
     "status": "completed"
    },
    "tags": []
   },
   "outputs": [],
   "source": [
    "#Lets perform  feature sleection for the model.\n",
    "#Lets consider only the two features  (Annual income and Spending Score)\n",
    "x = Data.iloc[:, [2, 3]].values"
   ]
  },
  {
   "cell_type": "markdown",
   "metadata": {
    "papermill": {
     "duration": 0.079162,
     "end_time": "2021-01-16T10:09:19.161297",
     "exception": false,
     "start_time": "2021-01-16T10:09:19.082135",
     "status": "completed"
    },
    "tags": []
   },
   "source": [
    "# 8.0 Building the Model"
   ]
  },
  {
   "cell_type": "markdown",
   "metadata": {
    "papermill": {
     "duration": 0.078763,
     "end_time": "2021-01-16T10:09:19.319637",
     "exception": false,
     "start_time": "2021-01-16T10:09:19.240874",
     "status": "completed"
    },
    "tags": []
   },
   "source": [
    "We use the  elbow method  to determine the optimal number of clusters in k-means clustering.The elbow method plots the value of the cost function produced by different values of k. As you know, if k increases, average distortion will decrease, each cluster will have fewer constituent instances, and the instances will be closer to their respective centroids."
   ]
  },
  {
   "cell_type": "code",
   "execution_count": 46,
   "metadata": {
    "execution": {
     "iopub.execute_input": "2021-01-16T10:09:19.487380Z",
     "iopub.status.busy": "2021-01-16T10:09:19.486436Z",
     "iopub.status.idle": "2021-01-16T10:09:20.512382Z",
     "shell.execute_reply": "2021-01-16T10:09:20.512960Z"
    },
    "papermill": {
     "duration": 1.113334,
     "end_time": "2021-01-16T10:09:20.513141",
     "exception": false,
     "start_time": "2021-01-16T10:09:19.399807",
     "status": "completed"
    },
    "tags": []
   },
   "outputs": [],
   "source": [
    "#Building the Model\n",
    "#We use KMeans Algorithm to decide the optimum cluster number , KMeans++ using Elbow Mmethod\n",
    "#to figure out K for KMeans, I will use ELBOW Method on KMEANS++ Calculation\n",
    "#We always assume the max number of clusters would be 10\n",
    "# We  can judge the number of clusters by doing averaging\n",
    "from sklearn.cluster import KMeans\n",
    "wcss=[]\n",
    "\n",
    "# We use the below static code to get max number of clusters\n",
    "\n",
    "for i in range(1,11):\n",
    "    kmeans = KMeans(n_clusters= i, init='k-means++', random_state=0)\n",
    "    kmeans.fit(x)\n",
    "    wcss.append(kmeans.inertia_)\n",
    "    \n",
    "#inertia_ is the formula used to segregate the data points into clusters"
   ]
  },
  {
   "cell_type": "code",
   "execution_count": 47,
   "metadata": {
    "execution": {
     "iopub.execute_input": "2021-01-16T10:09:20.693590Z",
     "iopub.status.busy": "2021-01-16T10:09:20.691690Z",
     "iopub.status.idle": "2021-01-16T10:09:20.866439Z",
     "shell.execute_reply": "2021-01-16T10:09:20.866981Z"
    },
    "papermill": {
     "duration": 0.268776,
     "end_time": "2021-01-16T10:09:20.867146",
     "exception": false,
     "start_time": "2021-01-16T10:09:20.598370",
     "status": "completed"
    },
    "tags": []
   },
   "outputs": [
    {
     "data": {
      "image/png": "[encoded data removed]",
      "text/plain": [
       "<Figure size 1080x576 with 1 Axes>"
      ]
     },
     "metadata": {
      "needs_background": "light"
     },
     "output_type": "display_data"
    }
   ],
   "source": [
    "#Visualize the ELBOW method to get the optimal value of K \n",
    "plt.plot(range(1,11), wcss)\n",
    "plt.title('The Elbow Method')\n",
    "plt.xlabel('no of clusters')\n",
    "plt.ylabel('wcss')\n",
    "plt.show()"
   ]
  },
  {
   "cell_type": "markdown",
   "metadata": {
    "papermill": {
     "duration": 0.083063,
     "end_time": "2021-01-16T10:09:21.033809",
     "exception": false,
     "start_time": "2021-01-16T10:09:20.950746",
     "status": "completed"
    },
    "tags": []
   },
   "source": [
    "It is clear from the figure that we should take the number of clusters equal to 5, as the slope of the curve is not steep enough after it.\n",
    "when we zoom out this curve then you will see that last elbow comes at k=5, it would be difficult to visualize the elbow if we choose the higher range. This why its usually recommended to pick a range of 1 to 11\n",
    "Therefore our k=5\n"
   ]
  },
  {
   "cell_type": "code",
   "execution_count": 48,
   "metadata": {
    "execution": {
     "iopub.execute_input": "2021-01-16T10:09:21.217054Z",
     "iopub.status.busy": "2021-01-16T10:09:21.215872Z",
     "iopub.status.idle": "2021-01-16T10:09:21.507157Z",
     "shell.execute_reply": "2021-01-16T10:09:21.506454Z"
    },
    "papermill": {
     "duration": 0.390309,
     "end_time": "2021-01-16T10:09:21.507272",
     "exception": false,
     "start_time": "2021-01-16T10:09:21.116963",
     "status": "completed"
    },
    "tags": []
   },
   "outputs": [
    {
     "data": {
      "image/png": "[encoded data removed]",
      "text/plain": [
       "<Figure size 1080x576 with 1 Axes>"
      ]
     },
     "metadata": {
      "needs_background": "light"
     },
     "output_type": "display_data"
    }
   ],
   "source": [
    "#Model Build\n",
    "#our data set is for  unsupervised learning therefore we will use \"fit_predict()\"\n",
    "#suppose we were working with  supervised learning data set we would use \"fit_tranform()\"\n",
    "#y_kmeans is our final model.\n",
    "kmeansmodel = KMeans(n_clusters= 5, init='k-means++', random_state=0)\n",
    "y_kmeans= kmeansmodel.fit_predict(x)\n",
    "\n",
    "#Visualizing all our the clusters \n",
    "\n",
    "plt.scatter(x[y_kmeans == 0, 0], x[y_kmeans == 0, 1], s = 100, c = 'red', label = 'Cluster 1')# Repeat for the same for the rest of the clusters.\n",
    "plt.scatter(x[y_kmeans == 1, 0], x[y_kmeans == 1, 1], s = 100, c = 'blue', label = 'Cluster 2')\n",
    "plt.scatter(x[y_kmeans == 2, 0], x[y_kmeans == 2, 1], s = 100, c = 'green', label = 'Cluster 3')\n",
    "plt.scatter(x[y_kmeans == 3, 0], x[y_kmeans == 3, 1], s = 100, c = 'cyan', label = 'Cluster 4')\n",
    "plt.scatter(x[y_kmeans == 4, 0], x[y_kmeans == 4, 1], s = 100, c = 'magenta', label = 'Cluster 5')\n",
    "plt.scatter(kmeans.cluster_centers_[:, 0], kmeans.cluster_centers_[:, 1], s = 300, c = 'yellow', label = 'Centroids')\n",
    "plt.title('Clusters of customers', fontsize = 20)\n",
    "plt.xlabel('Annual Income (k$)')\n",
    "plt.ylabel('Spending Score (1-100)')\n",
    "plt.legend()\n",
    "plt.show()"
   ]
  },
  {
   "cell_type": "markdown",
   "metadata": {
    "papermill": {
     "duration": 0.083342,
     "end_time": "2021-01-16T10:09:21.689820",
     "exception": false,
     "start_time": "2021-01-16T10:09:21.606478",
     "status": "completed"
    },
    "tags": []
   },
   "source": [
    "# 8.1  K Means Model Interpretation and Analysis."
   ]
  },
  {
   "cell_type": "markdown",
   "metadata": {
    "papermill": {
     "duration": 0.089143,
     "end_time": "2021-01-16T10:09:21.863528",
     "exception": false,
     "start_time": "2021-01-16T10:09:21.774385",
     "status": "completed"
    },
    "tags": []
   },
   "source": [
    "The model is divided in clusters,( Cluster 1 to Cluster 5)\n",
    "So we have 5 clusters divided based on Annual Income and Spending Score\n",
    "\n",
    "Cluster 1 (Red Color) -Normal Customer \n",
    "\n",
    "Customers are average in terms of earning and spending\n",
    "An Average consumer in terms of spending and Annual Income\n",
    "we see that people have average income and an average spending score, these people again will not be the prime targets of the shops or mall, but again they will be considered and other data analysis techniques may be used to increase their spending score.\n",
    "\n",
    "Cluster 2 (Blue Colr) -Spender \n",
    "\n",
    "This type of customers earns less but spends more\n",
    "Annual Income is less but spending high, so can also be treated as potential target customer\n",
    "we can see that people have low income but higher spending scores, these are those people who for some reason love to buy products more often even though they have a low income. \n",
    "Maybe it’s because these people are more than satisfied with the mall services. \n",
    "The shops/malls might not target these people that effectively but still will not lose them.\n",
    "\n",
    "Cluster 3 (Green Color) -Target Customers\n",
    "\n",
    "Earning high and also spending high Target Customers.\n",
    "Annual Income High as well as Spending Score is high, so a target consumer.\n",
    "we see that people have high income and high spending scores, this is the ideal case for the mall or shops as these people are the prime sources of profit. These people might be the regular customers of the mall and are convinced by the mall’s facilities.\n",
    "\n",
    "Cluster 4 (cyan Color)- Balanced Customers\n",
    "\n",
    "The earn less and spend less too.\n",
    "we can see people have low annual income and low spending scores, this is quite reasonable as people having low salaries prefer to buy less, \n",
    "in fact, these are the wise people who know how to spend and save money. \n",
    "The shops/mall will be least interested in people belonging to this cluster.\n",
    "\n",
    "Cluster 5 (magenta Color) - Pinch Penny Customers\n",
    "\n",
    "Earning high and spending less.- \n",
    "we see that people have high income but low spending scores, this is interesting. Maybe these are the people who are unsatisfied or unhappy by the mall’s services. These can be the prime targets of the mall, as they have the potential to spend money. So, the mall authorities will try to add new facilities so that they can attract these people and can meet their needs.\n",
    "\n",
    "\n"
   ]
  },
  {
   "cell_type": "markdown",
   "metadata": {
    "papermill": {
     "duration": 0.083257,
     "end_time": "2021-01-16T10:09:22.038010",
     "exception": false,
     "start_time": "2021-01-16T10:09:21.954753",
     "status": "completed"
    },
    "tags": []
   },
   "source": [
    "# 9.0 Conclusion and Report\n"
   ]
  },
  {
   "cell_type": "markdown",
   "metadata": {
    "papermill": {
     "duration": 0.081465,
     "end_time": "2021-01-16T10:09:22.204410",
     "exception": false,
     "start_time": "2021-01-16T10:09:22.122945",
     "status": "completed"
    },
    "tags": []
   },
   "source": [
    "We have explored the five segments based customers  Annual Income and Spending Score which are reportedly the best factors/attributes to determine the segments of a customer in a Mall. They include; Pinch Penny Customers,Balanced Customers,Target Customers,Spender and the normal customer.\n",
    "We can put Cluster 3 into some alerting system where sms and emails can be send to them on daily basis regarding the offers and discounts that they can get at the Mall; while the rest we can set once per week in a month for blast sms to notify them about our products.\n",
    "\n",
    "Similarly \n",
    "Now we know customers behaviour depending upon their Annual Income and Spending Score. \n",
    "There can be many marketing strategies applied for Customers on these Cluster Analysis.\n",
    "High income and High spending score customers are our target customers and we would always want to retain them\n",
    "as they give the most profit margin to our organization. \n",
    "High Income and Less spending score customers can be \n",
    "attracted with wide range of products in their life style demands and it might attract them towards the Mall Supermarket.\n",
    "Less Income Less Spending Score can be given extra offers and constantly sending them the offers\n",
    "and discounts will attract them towards spending.\n",
    "We can also have a cluster anaysis done on what kind of products customers tend to buy and can make other marketing strategies accordingly. The data set did not have enough data to carry out more analytics on the same."
   ]
  },
  {
   "cell_type": "markdown",
   "metadata": {
    "papermill": {
     "duration": 0.082536,
     "end_time": "2021-01-16T10:09:22.368636",
     "exception": false,
     "start_time": "2021-01-16T10:09:22.286100",
     "status": "completed"
    },
    "tags": []
   },
   "source": [
    "# 10. Recommendation."
   ]
  },
  {
   "cell_type": "markdown",
   "metadata": {
    "papermill": {
     "duration": 0.083834,
     "end_time": "2021-01-16T10:09:22.536542",
     "exception": false,
     "start_time": "2021-01-16T10:09:22.452708",
     "status": "completed"
    },
    "tags": []
   },
   "source": [
    "Companies, Malls, super markets on Small Business Enterprises should carry out Market Basket Analysis for their business. This will enable companies to target specific groups of customers, a customer segmentation model allows for the effective allocation of marketing resources and the maximization of cross- and up-selling opportunities.\n",
    "When a group of customers is sent personalized messages as part of a marketing mix that is designed around their needs, it's easier for companies to send those customers special offers meant to encourage them to buy more products. Customer segmentation can also improve customer service and assist in customer loyalty and retention.\n",
    "As a by-product of its personalized nature, marketing materials sent out using customer segmentation tend to be more valued and appreciated by the customer who receives them as opposed to impersonal brand messaging that doesn't acknowledge purchase history or any kind of customer relationship\n",
    "Finally with customer segmentation Companies will stay a step ahead of competitors in specific sections of the market and identify new products that exist or potential customers could be interested in or improving products to meet customer expectations."
   ]
  },
  {
   "cell_type": "code",
   "execution_count": null,
   "metadata": {
    "papermill": {
     "duration": 0.084436,
     "end_time": "2021-01-16T10:09:22.706736",
     "exception": false,
     "start_time": "2021-01-16T10:09:22.622300",
     "status": "completed"
    },
    "tags": []
   },
   "outputs": [],
   "source": []
  }
 ],
 "metadata": {
  "kernelspec": {
   "display_name": "Python 3",
   "language": "python",
   "name": "python3"
  },
  "language_info": {
   "codemirror_mode": {
    "name": "ipython",
    "version": 3
   },
   "file_extension": ".py",
   "mimetype": "text/x-python",
   "name": "python",
   "nbconvert_exporter": "python",
   "pygments_lexer": "ipython3",
   "version": "3.7.6"
  },
  "papermill": {
   "duration": 24.656956,
   "end_time": "2021-01-16T10:09:22.897307",
   "environment_variables": {},
   "exception": null,
   "input_path": "__notebook__.ipynb",
   "output_path": "__notebook__.ipynb",
   "parameters": {},
   "start_time": "2021-01-16T10:08:58.240351",
   "version": "2.1.0"
  }
 },
 "nbformat": 4,
 "nbformat_minor": 4
}
